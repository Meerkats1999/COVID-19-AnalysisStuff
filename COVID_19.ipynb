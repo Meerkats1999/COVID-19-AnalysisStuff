{
  "nbformat": 4,
  "nbformat_minor": 0,
  "metadata": {
    "kernelspec": {
      "display_name": "Python 3",
      "language": "python",
      "name": "python3"
    },
    "language_info": {
      "codemirror_mode": {
        "name": "ipython",
        "version": 3
      },
      "file_extension": ".py",
      "mimetype": "text/x-python",
      "name": "python",
      "nbconvert_exporter": "python",
      "pygments_lexer": "ipython3",
      "version": "3.6.6"
    },
    "colab": {
      "name": "COVID-19.ipynb",
      "provenance": [],
      "collapsed_sections": [],
      "toc_visible": true
    }
  },
  "cells": [
    {
      "cell_type": "markdown",
      "metadata": {
        "id": "qgt0jwBr36f8",
        "colab_type": "text"
      },
      "source": [
        "The dataset and analysis on this notebook is as of 23rd March 2020. <br />\n",
        "It does not contain any inferences as the data will change with time.\n"
      ]
    },
    {
      "cell_type": "code",
      "metadata": {
        "_cell_guid": "b1076dfc-b9ad-4769-8c92-a6c4dae69d19",
        "_uuid": "8f2839f25d086af736a60e9eeb907d3b93b6e0e5",
        "id": "O_pCQoWg0FTN",
        "colab_type": "code",
        "colab": {}
      },
      "source": [
        "import numpy as np \n",
        "import pandas as pd \n",
        "import matplotlib.pyplot as plt\n",
        "import seaborn as sns\n",
        "import matplotlib.gridspec as gridspec"
      ],
      "execution_count": 0,
      "outputs": []
    },
    {
      "cell_type": "code",
      "metadata": {
        "_cell_guid": "79c7e3d0-c299-4dcb-8224-4455121ee9b0",
        "_uuid": "d629ff2d2480ee46fbb7e2d37f6b5fab8052498a",
        "id": "1C1x5fxy0FTV",
        "colab_type": "code",
        "colab": {}
      },
      "source": [
        "corona_chan = pd.read_csv(\"data/nCovid.csv\")"
      ],
      "execution_count": 0,
      "outputs": []
    },
    {
      "cell_type": "code",
      "metadata": {
        "id": "2ZH8iL-b0FTY",
        "colab_type": "code",
        "outputId": "65e1bae1-7e14-4896-fe32-231d6b34bfff",
        "colab": {
          "base_uri": "https://localhost:8080/",
          "height": 204
        }
      },
      "source": [
        "corona_chan.head()"
      ],
      "execution_count": 66,
      "outputs": [
        {
          "output_type": "execute_result",
          "data": {
            "text/html": [
              "<div>\n",
              "<style scoped>\n",
              "    .dataframe tbody tr th:only-of-type {\n",
              "        vertical-align: middle;\n",
              "    }\n",
              "\n",
              "    .dataframe tbody tr th {\n",
              "        vertical-align: top;\n",
              "    }\n",
              "\n",
              "    .dataframe thead th {\n",
              "        text-align: right;\n",
              "    }\n",
              "</style>\n",
              "<table border=\"1\" class=\"dataframe\">\n",
              "  <thead>\n",
              "    <tr style=\"text-align: right;\">\n",
              "      <th></th>\n",
              "      <th>Province/State</th>\n",
              "      <th>Country/Region</th>\n",
              "      <th>Last Update</th>\n",
              "      <th>Confirmed</th>\n",
              "      <th>Deaths</th>\n",
              "      <th>Recovered</th>\n",
              "      <th>Latitude</th>\n",
              "      <th>Longitude</th>\n",
              "    </tr>\n",
              "  </thead>\n",
              "  <tbody>\n",
              "    <tr>\n",
              "      <th>0</th>\n",
              "      <td>Hubei</td>\n",
              "      <td>China</td>\n",
              "      <td>2020-03-13 11:09:03</td>\n",
              "      <td>67786.0</td>\n",
              "      <td>3062.0</td>\n",
              "      <td>51553.0</td>\n",
              "      <td>30.9756</td>\n",
              "      <td>112.2707</td>\n",
              "    </tr>\n",
              "    <tr>\n",
              "      <th>1</th>\n",
              "      <td>Guangdong</td>\n",
              "      <td>China</td>\n",
              "      <td>2020-03-13 11:09:03</td>\n",
              "      <td>1356.0</td>\n",
              "      <td>8.0</td>\n",
              "      <td>1296.0</td>\n",
              "      <td>23.3417</td>\n",
              "      <td>113.4244</td>\n",
              "    </tr>\n",
              "    <tr>\n",
              "      <th>2</th>\n",
              "      <td>Henan</td>\n",
              "      <td>China</td>\n",
              "      <td>2020-03-11 08:13:09</td>\n",
              "      <td>1273.0</td>\n",
              "      <td>22.0</td>\n",
              "      <td>1249.0</td>\n",
              "      <td>33.8820</td>\n",
              "      <td>113.6140</td>\n",
              "    </tr>\n",
              "    <tr>\n",
              "      <th>3</th>\n",
              "      <td>Zhejiang</td>\n",
              "      <td>China</td>\n",
              "      <td>2020-03-12 01:33:02</td>\n",
              "      <td>1215.0</td>\n",
              "      <td>1.0</td>\n",
              "      <td>1197.0</td>\n",
              "      <td>29.1832</td>\n",
              "      <td>120.0934</td>\n",
              "    </tr>\n",
              "    <tr>\n",
              "      <th>4</th>\n",
              "      <td>Hunan</td>\n",
              "      <td>China</td>\n",
              "      <td>2020-03-13 11:09:03</td>\n",
              "      <td>1018.0</td>\n",
              "      <td>4.0</td>\n",
              "      <td>1005.0</td>\n",
              "      <td>27.6104</td>\n",
              "      <td>111.7088</td>\n",
              "    </tr>\n",
              "  </tbody>\n",
              "</table>\n",
              "</div>"
            ],
            "text/plain": [
              "  Province/State Country/Region  ... Latitude  Longitude\n",
              "0          Hubei          China  ...  30.9756   112.2707\n",
              "1      Guangdong          China  ...  23.3417   113.4244\n",
              "2          Henan          China  ...  33.8820   113.6140\n",
              "3       Zhejiang          China  ...  29.1832   120.0934\n",
              "4          Hunan          China  ...  27.6104   111.7088\n",
              "\n",
              "[5 rows x 8 columns]"
            ]
          },
          "metadata": {
            "tags": []
          },
          "execution_count": 66
        }
      ]
    },
    {
      "cell_type": "code",
      "metadata": {
        "id": "kdjo-K8w0FTd",
        "colab_type": "code",
        "colab": {}
      },
      "source": [
        "corona_chan['Date'] = pd.to_datetime(corona_chan['Last Update'])\n",
        "corona_chan['Last Update'] = pd.to_datetime(corona_chan['Last Update'])"
      ],
      "execution_count": 0,
      "outputs": []
    },
    {
      "cell_type": "code",
      "metadata": {
        "id": "Dph8lFda0FTg",
        "colab_type": "code",
        "colab": {}
      },
      "source": [
        "corona_chan['Day'] = corona_chan['Date'].dt.day\n",
        "corona_chan['Month'] = corona_chan['Date'].dt.month\n",
        "corona_chan['Week'] = corona_chan['Date'].dt.week\n",
        "corona_chan['WeekDay'] = corona_chan['Date'].dt.weekday"
      ],
      "execution_count": 0,
      "outputs": []
    },
    {
      "cell_type": "code",
      "metadata": {
        "_kg_hide-input": true,
        "id": "VzAklUIb0FTk",
        "colab_type": "code",
        "outputId": "2cc4a19c-32ed-429e-d303-9f95597ddf2c",
        "colab": {
          "base_uri": "https://localhost:8080/",
          "height": 932
        }
      },
      "source": [
        "displayed_cols = ['Confirmed','Deaths','Recovered']\n",
        "def multi_plot():\n",
        "    fig = plt.figure(constrained_layout=True, figsize=(15,8))\n",
        "    grid = gridspec.GridSpec(ncols=4, nrows=2, figure=fig)\n",
        "\n",
        "    ax1 = fig.add_subplot(grid[0, :2])\n",
        "    ax1.set_title('Daily Reports')\n",
        "    corona_chan.groupby(['Date']).sum()[displayed_cols].plot(ax=ax1)\n",
        "\n",
        "    ax2 = fig.add_subplot(grid[1, :2])\n",
        "    ax2.set_title('Monthly Reports')\n",
        "    corona_chan.groupby(['Month']).sum()[displayed_cols].plot(kind='bar',ax=ax2)\n",
        "    ax2.set_xticklabels(range(1,3))\n",
        "\n",
        "    ax3= fig.add_subplot(grid[0, 2:])\n",
        "    ax3.set_title('Weekly Reports')\n",
        "    weekdays = corona_chan.groupby('Week').nth(-1)['Date']\n",
        "    corona_chan[corona_chan['Date'].isin(weekdays)].groupby('Date')[displayed_cols].sum().plot(kind='bar',ax=ax3)\n",
        "    ax3.set_xticklabels(range(1,len(weekdays)+1))\n",
        "\n",
        "    ax4 = fig.add_subplot(grid[1, 2:])\n",
        "    ax4.set_title('WeekDays Reports')\n",
        "    corona_chan.groupby(['WeekDay']).sum()[displayed_cols].plot(ax=ax4)\n",
        "    plt.show()\n",
        "multi_plot()"
      ],
      "execution_count": 69,
      "outputs": [
        {
          "output_type": "stream",
          "text": [
            "/usr/local/lib/python3.6/dist-packages/pandas/plotting/_matplotlib/tools.py:20: UserWarning: This figure was using constrained_layout==True, but that is incompatible with subplots_adjust and or tight_layout: setting constrained_layout==False. \n",
            "  fig.subplots_adjust(bottom=0.2)\n",
            "/usr/local/lib/python3.6/dist-packages/pandas/plotting/_matplotlib/tools.py:307: MatplotlibDeprecationWarning: \n",
            "The rowNum attribute was deprecated in Matplotlib 3.2 and will be removed two minor releases later. Use ax.get_subplotspec().rowspan.start instead.\n",
            "  layout[ax.rowNum, ax.colNum] = ax.get_visible()\n",
            "/usr/local/lib/python3.6/dist-packages/pandas/plotting/_matplotlib/tools.py:307: MatplotlibDeprecationWarning: \n",
            "The colNum attribute was deprecated in Matplotlib 3.2 and will be removed two minor releases later. Use ax.get_subplotspec().colspan.start instead.\n",
            "  layout[ax.rowNum, ax.colNum] = ax.get_visible()\n",
            "/usr/local/lib/python3.6/dist-packages/pandas/plotting/_matplotlib/tools.py:313: MatplotlibDeprecationWarning: \n",
            "The rowNum attribute was deprecated in Matplotlib 3.2 and will be removed two minor releases later. Use ax.get_subplotspec().rowspan.start instead.\n",
            "  if not layout[ax.rowNum + 1, ax.colNum]:\n",
            "/usr/local/lib/python3.6/dist-packages/pandas/plotting/_matplotlib/tools.py:313: MatplotlibDeprecationWarning: \n",
            "The colNum attribute was deprecated in Matplotlib 3.2 and will be removed two minor releases later. Use ax.get_subplotspec().colspan.start instead.\n",
            "  if not layout[ax.rowNum + 1, ax.colNum]:\n",
            "/usr/local/lib/python3.6/dist-packages/pandas/plotting/_matplotlib/tools.py:307: MatplotlibDeprecationWarning: \n",
            "The rowNum attribute was deprecated in Matplotlib 3.2 and will be removed two minor releases later. Use ax.get_subplotspec().rowspan.start instead.\n",
            "  layout[ax.rowNum, ax.colNum] = ax.get_visible()\n",
            "/usr/local/lib/python3.6/dist-packages/pandas/plotting/_matplotlib/tools.py:307: MatplotlibDeprecationWarning: \n",
            "The colNum attribute was deprecated in Matplotlib 3.2 and will be removed two minor releases later. Use ax.get_subplotspec().colspan.start instead.\n",
            "  layout[ax.rowNum, ax.colNum] = ax.get_visible()\n",
            "/usr/local/lib/python3.6/dist-packages/pandas/plotting/_matplotlib/tools.py:313: MatplotlibDeprecationWarning: \n",
            "The rowNum attribute was deprecated in Matplotlib 3.2 and will be removed two minor releases later. Use ax.get_subplotspec().rowspan.start instead.\n",
            "  if not layout[ax.rowNum + 1, ax.colNum]:\n",
            "/usr/local/lib/python3.6/dist-packages/pandas/plotting/_matplotlib/tools.py:313: MatplotlibDeprecationWarning: \n",
            "The colNum attribute was deprecated in Matplotlib 3.2 and will be removed two minor releases later. Use ax.get_subplotspec().colspan.start instead.\n",
            "  if not layout[ax.rowNum + 1, ax.colNum]:\n"
          ],
          "name": "stderr"
        },
        {
          "output_type": "display_data",
          "data": {
            "image/png": "[encoded data removed]",
            "text/plain": [
              "<Figure size 1080x576 with 4 Axes>"
            ]
          },
          "metadata": {
            "tags": []
          }
        }
      ]
    },
    {
      "cell_type": "code",
      "metadata": {
        "id": "1ss6Pw3S0FTr",
        "colab_type": "code",
        "colab": {}
      },
      "source": [
        "recent_date = corona_chan['Date'].max()\n",
        "last_updated = corona_chan[corona_chan['Date'].dt.date == recent_date]"
      ],
      "execution_count": 0,
      "outputs": []
    },
    {
      "cell_type": "code",
      "metadata": {
        "id": "zipW_vssydGh",
        "colab_type": "code",
        "colab": {
          "base_uri": "https://localhost:8080/",
          "height": 34
        },
        "outputId": "6e2b807b-2610-4a93-99af-c4e342ff17d5"
      },
      "source": [
        "recent_date"
      ],
      "execution_count": 71,
      "outputs": [
        {
          "output_type": "execute_result",
          "data": {
            "text/plain": [
              "Timestamp('2020-03-22 23:43:03')"
            ]
          },
          "metadata": {
            "tags": []
          },
          "execution_count": 71
        }
      ]
    },
    {
      "cell_type": "code",
      "metadata": {
        "id": "21xKw_Y0Af2e",
        "colab_type": "code",
        "outputId": "ef61d480-32e5-4aa9-ec6a-591a9e97a0bd",
        "colab": {
          "base_uri": "https://localhost:8080/",
          "height": 204
        }
      },
      "source": [
        "last_updated.head()"
      ],
      "execution_count": 72,
      "outputs": [
        {
          "output_type": "execute_result",
          "data": {
            "text/html": [
              "<div>\n",
              "<style scoped>\n",
              "    .dataframe tbody tr th:only-of-type {\n",
              "        vertical-align: middle;\n",
              "    }\n",
              "\n",
              "    .dataframe tbody tr th {\n",
              "        vertical-align: top;\n",
              "    }\n",
              "\n",
              "    .dataframe thead th {\n",
              "        text-align: right;\n",
              "    }\n",
              "</style>\n",
              "<table border=\"1\" class=\"dataframe\">\n",
              "  <thead>\n",
              "    <tr style=\"text-align: right;\">\n",
              "      <th></th>\n",
              "      <th>Province/State</th>\n",
              "      <th>Country/Region</th>\n",
              "      <th>Last Update</th>\n",
              "      <th>Confirmed</th>\n",
              "      <th>Deaths</th>\n",
              "      <th>Recovered</th>\n",
              "      <th>Latitude</th>\n",
              "      <th>Longitude</th>\n",
              "      <th>Date</th>\n",
              "      <th>Day</th>\n",
              "      <th>Month</th>\n",
              "      <th>Week</th>\n",
              "      <th>WeekDay</th>\n",
              "    </tr>\n",
              "  </thead>\n",
              "  <tbody>\n",
              "    <tr>\n",
              "      <th>6426</th>\n",
              "      <td>Hubei</td>\n",
              "      <td>China</td>\n",
              "      <td>2020-03-22 09:43:06</td>\n",
              "      <td>67800.0</td>\n",
              "      <td>3144.0</td>\n",
              "      <td>59433.0</td>\n",
              "      <td>30.9756</td>\n",
              "      <td>112.2707</td>\n",
              "      <td>2020-03-22 09:43:06</td>\n",
              "      <td>22</td>\n",
              "      <td>3</td>\n",
              "      <td>12</td>\n",
              "      <td>6</td>\n",
              "    </tr>\n",
              "    <tr>\n",
              "      <th>6427</th>\n",
              "      <td>NaN</td>\n",
              "      <td>Italy</td>\n",
              "      <td>2020-03-22 18:13:20</td>\n",
              "      <td>59138.0</td>\n",
              "      <td>5476.0</td>\n",
              "      <td>7024.0</td>\n",
              "      <td>41.8719</td>\n",
              "      <td>12.5674</td>\n",
              "      <td>2020-03-22 18:13:20</td>\n",
              "      <td>22</td>\n",
              "      <td>3</td>\n",
              "      <td>12</td>\n",
              "      <td>6</td>\n",
              "    </tr>\n",
              "    <tr>\n",
              "      <th>6428</th>\n",
              "      <td>NaN</td>\n",
              "      <td>Spain</td>\n",
              "      <td>2020-03-22 23:13:18</td>\n",
              "      <td>28768.0</td>\n",
              "      <td>1772.0</td>\n",
              "      <td>2575.0</td>\n",
              "      <td>40.4637</td>\n",
              "      <td>-3.7492</td>\n",
              "      <td>2020-03-22 23:13:18</td>\n",
              "      <td>22</td>\n",
              "      <td>3</td>\n",
              "      <td>12</td>\n",
              "      <td>6</td>\n",
              "    </tr>\n",
              "    <tr>\n",
              "      <th>6429</th>\n",
              "      <td>NaN</td>\n",
              "      <td>Germany</td>\n",
              "      <td>2020-03-22 23:43:02</td>\n",
              "      <td>24873.0</td>\n",
              "      <td>94.0</td>\n",
              "      <td>266.0</td>\n",
              "      <td>51.1657</td>\n",
              "      <td>10.4515</td>\n",
              "      <td>2020-03-22 23:43:02</td>\n",
              "      <td>22</td>\n",
              "      <td>3</td>\n",
              "      <td>12</td>\n",
              "      <td>6</td>\n",
              "    </tr>\n",
              "    <tr>\n",
              "      <th>6430</th>\n",
              "      <td>NaN</td>\n",
              "      <td>Iran</td>\n",
              "      <td>2020-03-22 14:13:06</td>\n",
              "      <td>21638.0</td>\n",
              "      <td>1685.0</td>\n",
              "      <td>7931.0</td>\n",
              "      <td>32.4279</td>\n",
              "      <td>53.6880</td>\n",
              "      <td>2020-03-22 14:13:06</td>\n",
              "      <td>22</td>\n",
              "      <td>3</td>\n",
              "      <td>12</td>\n",
              "      <td>6</td>\n",
              "    </tr>\n",
              "  </tbody>\n",
              "</table>\n",
              "</div>"
            ],
            "text/plain": [
              "     Province/State Country/Region         Last Update  ...  Month  Week  WeekDay\n",
              "6426          Hubei          China 2020-03-22 09:43:06  ...      3    12        6\n",
              "6427            NaN          Italy 2020-03-22 18:13:20  ...      3    12        6\n",
              "6428            NaN          Spain 2020-03-22 23:13:18  ...      3    12        6\n",
              "6429            NaN        Germany 2020-03-22 23:43:02  ...      3    12        6\n",
              "6430            NaN           Iran 2020-03-22 14:13:06  ...      3    12        6\n",
              "\n",
              "[5 rows x 13 columns]"
            ]
          },
          "metadata": {
            "tags": []
          },
          "execution_count": 72
        }
      ]
    },
    {
      "cell_type": "code",
      "metadata": {
        "id": "euGd5DQe0FTu",
        "colab_type": "code",
        "outputId": "a60143e0-9011-4508-84b8-951ff1f2d562",
        "colab": {
          "base_uri": "https://localhost:8080/",
          "height": 34
        }
      },
      "source": [
        "# No of days\n",
        "corona_chan['Date'].max() - corona_chan['Date'].min()"
      ],
      "execution_count": 73,
      "outputs": [
        {
          "output_type": "execute_result",
          "data": {
            "text/plain": [
              "Timedelta('60 days 06:43:03')"
            ]
          },
          "metadata": {
            "tags": []
          },
          "execution_count": 73
        }
      ]
    },
    {
      "cell_type": "code",
      "metadata": {
        "_kg_hide-input": true,
        "id": "rdE1Oczg0FTx",
        "colab_type": "code",
        "outputId": "fe5299de-0abe-4c05-aa6e-2351e3794793",
        "colab": {
          "base_uri": "https://localhost:8080/",
          "height": 1000
        }
      },
      "source": [
        "pd.DataFrame(corona_chan['Country/Region'].value_counts()).style.set_table_styles(\n",
        "[{'selector': 'tr:nth-of-type(-n+5)',\n",
        "  'props': [('background', '#FFA500')]}, \n",
        " {'selector': 'th',\n",
        "  'props': [('background', '#606060'), \n",
        "            ('color', 'white'),\n",
        "            ('font-family', 'verdana')]}\n",
        "]\n",
        ")"
      ],
      "execution_count": 74,
      "outputs": [
        {
          "output_type": "execute_result",
          "data": {
            "text/html": [
              "<style  type=\"text/css\" >\n",
              "    #T_59e45280_6ddb_11ea_b6ea_0242ac1c0002 tr:nth-of-type(-n+5) {\n",
              "          background: #FFA500;\n",
              "    }    #T_59e45280_6ddb_11ea_b6ea_0242ac1c0002 th {\n",
              "          background: #606060;\n",
              "          color: white;\n",
              "          font-family: verdana;\n",
              "    }</style><table id=\"T_59e45280_6ddb_11ea_b6ea_0242ac1c0002\" ><thead>    <tr>        <th class=\"blank level0\" ></th>        <th class=\"col_heading level0 col0\" >Country/Region</th>    </tr></thead><tbody>\n",
              "                <tr>\n",
              "                        <th id=\"T_59e45280_6ddb_11ea_b6ea_0242ac1c0002level0_row0\" class=\"row_heading level0 row0\" >US</th>\n",
              "                        <td id=\"T_59e45280_6ddb_11ea_b6ea_0242ac1c0002row0_col0\" class=\"data row0 col0\" >1617</td>\n",
              "            </tr>\n",
              "            <tr>\n",
              "                        <th id=\"T_59e45280_6ddb_11ea_b6ea_0242ac1c0002level0_row1\" class=\"row_heading level0 row1\" >Mainland China</th>\n",
              "                        <td id=\"T_59e45280_6ddb_11ea_b6ea_0242ac1c0002row1_col0\" class=\"data row1 col0\" >1517</td>\n",
              "            </tr>\n",
              "            <tr>\n",
              "                        <th id=\"T_59e45280_6ddb_11ea_b6ea_0242ac1c0002level0_row2\" class=\"row_heading level0 row2\" >China</th>\n",
              "                        <td id=\"T_59e45280_6ddb_11ea_b6ea_0242ac1c0002row2_col0\" class=\"data row2 col0\" >396</td>\n",
              "            </tr>\n",
              "            <tr>\n",
              "                        <th id=\"T_59e45280_6ddb_11ea_b6ea_0242ac1c0002level0_row3\" class=\"row_heading level0 row3\" >Australia</th>\n",
              "                        <td id=\"T_59e45280_6ddb_11ea_b6ea_0242ac1c0002row3_col0\" class=\"data row3 col0\" >323</td>\n",
              "            </tr>\n",
              "            <tr>\n",
              "                        <th id=\"T_59e45280_6ddb_11ea_b6ea_0242ac1c0002level0_row4\" class=\"row_heading level0 row4\" >Canada</th>\n",
              "                        <td id=\"T_59e45280_6ddb_11ea_b6ea_0242ac1c0002row4_col0\" class=\"data row4 col0\" >254</td>\n",
              "            </tr>\n",
              "            <tr>\n",
              "                        <th id=\"T_59e45280_6ddb_11ea_b6ea_0242ac1c0002level0_row5\" class=\"row_heading level0 row5\" >France</th>\n",
              "                        <td id=\"T_59e45280_6ddb_11ea_b6ea_0242ac1c0002row5_col0\" class=\"data row5 col0\" >127</td>\n",
              "            </tr>\n",
              "            <tr>\n",
              "                        <th id=\"T_59e45280_6ddb_11ea_b6ea_0242ac1c0002level0_row6\" class=\"row_heading level0 row6\" >Thailand</th>\n",
              "                        <td id=\"T_59e45280_6ddb_11ea_b6ea_0242ac1c0002row6_col0\" class=\"data row6 col0\" >61</td>\n",
              "            </tr>\n",
              "            <tr>\n",
              "                        <th id=\"T_59e45280_6ddb_11ea_b6ea_0242ac1c0002level0_row7\" class=\"row_heading level0 row7\" >Japan</th>\n",
              "                        <td id=\"T_59e45280_6ddb_11ea_b6ea_0242ac1c0002row7_col0\" class=\"data row7 col0\" >61</td>\n",
              "            </tr>\n",
              "            <tr>\n",
              "                        <th id=\"T_59e45280_6ddb_11ea_b6ea_0242ac1c0002level0_row8\" class=\"row_heading level0 row8\" >Singapore</th>\n",
              "                        <td id=\"T_59e45280_6ddb_11ea_b6ea_0242ac1c0002row8_col0\" class=\"data row8 col0\" >60</td>\n",
              "            </tr>\n",
              "            <tr>\n",
              "                        <th id=\"T_59e45280_6ddb_11ea_b6ea_0242ac1c0002level0_row9\" class=\"row_heading level0 row9\" >Malaysia</th>\n",
              "                        <td id=\"T_59e45280_6ddb_11ea_b6ea_0242ac1c0002row9_col0\" class=\"data row9 col0\" >59</td>\n",
              "            </tr>\n",
              "            <tr>\n",
              "                        <th id=\"T_59e45280_6ddb_11ea_b6ea_0242ac1c0002level0_row10\" class=\"row_heading level0 row10\" >Vietnam</th>\n",
              "                        <td id=\"T_59e45280_6ddb_11ea_b6ea_0242ac1c0002row10_col0\" class=\"data row10 col0\" >59</td>\n",
              "            </tr>\n",
              "            <tr>\n",
              "                        <th id=\"T_59e45280_6ddb_11ea_b6ea_0242ac1c0002level0_row11\" class=\"row_heading level0 row11\" >Nepal</th>\n",
              "                        <td id=\"T_59e45280_6ddb_11ea_b6ea_0242ac1c0002row11_col0\" class=\"data row11 col0\" >58</td>\n",
              "            </tr>\n",
              "            <tr>\n",
              "                        <th id=\"T_59e45280_6ddb_11ea_b6ea_0242ac1c0002level0_row12\" class=\"row_heading level0 row12\" >Cambodia</th>\n",
              "                        <td id=\"T_59e45280_6ddb_11ea_b6ea_0242ac1c0002row12_col0\" class=\"data row12 col0\" >56</td>\n",
              "            </tr>\n",
              "            <tr>\n",
              "                        <th id=\"T_59e45280_6ddb_11ea_b6ea_0242ac1c0002level0_row13\" class=\"row_heading level0 row13\" >Sri Lanka</th>\n",
              "                        <td id=\"T_59e45280_6ddb_11ea_b6ea_0242ac1c0002row13_col0\" class=\"data row13 col0\" >56</td>\n",
              "            </tr>\n",
              "            <tr>\n",
              "                        <th id=\"T_59e45280_6ddb_11ea_b6ea_0242ac1c0002level0_row14\" class=\"row_heading level0 row14\" >United Kingdom</th>\n",
              "                        <td id=\"T_59e45280_6ddb_11ea_b6ea_0242ac1c0002row14_col0\" class=\"data row14 col0\" >55</td>\n",
              "            </tr>\n",
              "            <tr>\n",
              "                        <th id=\"T_59e45280_6ddb_11ea_b6ea_0242ac1c0002level0_row15\" class=\"row_heading level0 row15\" >Germany</th>\n",
              "                        <td id=\"T_59e45280_6ddb_11ea_b6ea_0242ac1c0002row15_col0\" class=\"data row15 col0\" >55</td>\n",
              "            </tr>\n",
              "            <tr>\n",
              "                        <th id=\"T_59e45280_6ddb_11ea_b6ea_0242ac1c0002level0_row16\" class=\"row_heading level0 row16\" >Philippines</th>\n",
              "                        <td id=\"T_59e45280_6ddb_11ea_b6ea_0242ac1c0002row16_col0\" class=\"data row16 col0\" >54</td>\n",
              "            </tr>\n",
              "            <tr>\n",
              "                        <th id=\"T_59e45280_6ddb_11ea_b6ea_0242ac1c0002level0_row17\" class=\"row_heading level0 row17\" >Finland</th>\n",
              "                        <td id=\"T_59e45280_6ddb_11ea_b6ea_0242ac1c0002row17_col0\" class=\"data row17 col0\" >54</td>\n",
              "            </tr>\n",
              "            <tr>\n",
              "                        <th id=\"T_59e45280_6ddb_11ea_b6ea_0242ac1c0002level0_row18\" class=\"row_heading level0 row18\" >United Arab Emirates</th>\n",
              "                        <td id=\"T_59e45280_6ddb_11ea_b6ea_0242ac1c0002row18_col0\" class=\"data row18 col0\" >54</td>\n",
              "            </tr>\n",
              "            <tr>\n",
              "                        <th id=\"T_59e45280_6ddb_11ea_b6ea_0242ac1c0002level0_row19\" class=\"row_heading level0 row19\" >India</th>\n",
              "                        <td id=\"T_59e45280_6ddb_11ea_b6ea_0242ac1c0002row19_col0\" class=\"data row19 col0\" >53</td>\n",
              "            </tr>\n",
              "            <tr>\n",
              "                        <th id=\"T_59e45280_6ddb_11ea_b6ea_0242ac1c0002level0_row20\" class=\"row_heading level0 row20\" >Sweden</th>\n",
              "                        <td id=\"T_59e45280_6ddb_11ea_b6ea_0242ac1c0002row20_col0\" class=\"data row20 col0\" >52</td>\n",
              "            </tr>\n",
              "            <tr>\n",
              "                        <th id=\"T_59e45280_6ddb_11ea_b6ea_0242ac1c0002level0_row21\" class=\"row_heading level0 row21\" >Italy</th>\n",
              "                        <td id=\"T_59e45280_6ddb_11ea_b6ea_0242ac1c0002row21_col0\" class=\"data row21 col0\" >52</td>\n",
              "            </tr>\n",
              "            <tr>\n",
              "                        <th id=\"T_59e45280_6ddb_11ea_b6ea_0242ac1c0002level0_row22\" class=\"row_heading level0 row22\" >Spain</th>\n",
              "                        <td id=\"T_59e45280_6ddb_11ea_b6ea_0242ac1c0002row22_col0\" class=\"data row22 col0\" >51</td>\n",
              "            </tr>\n",
              "            <tr>\n",
              "                        <th id=\"T_59e45280_6ddb_11ea_b6ea_0242ac1c0002level0_row23\" class=\"row_heading level0 row23\" >Russia</th>\n",
              "                        <td id=\"T_59e45280_6ddb_11ea_b6ea_0242ac1c0002row23_col0\" class=\"data row23 col0\" >51</td>\n",
              "            </tr>\n",
              "            <tr>\n",
              "                        <th id=\"T_59e45280_6ddb_11ea_b6ea_0242ac1c0002level0_row24\" class=\"row_heading level0 row24\" >Taiwan</th>\n",
              "                        <td id=\"T_59e45280_6ddb_11ea_b6ea_0242ac1c0002row24_col0\" class=\"data row24 col0\" >48</td>\n",
              "            </tr>\n",
              "            <tr>\n",
              "                        <th id=\"T_59e45280_6ddb_11ea_b6ea_0242ac1c0002level0_row25\" class=\"row_heading level0 row25\" >Macau</th>\n",
              "                        <td id=\"T_59e45280_6ddb_11ea_b6ea_0242ac1c0002row25_col0\" class=\"data row25 col0\" >48</td>\n",
              "            </tr>\n",
              "            <tr>\n",
              "                        <th id=\"T_59e45280_6ddb_11ea_b6ea_0242ac1c0002level0_row26\" class=\"row_heading level0 row26\" >South Korea</th>\n",
              "                        <td id=\"T_59e45280_6ddb_11ea_b6ea_0242ac1c0002row26_col0\" class=\"data row26 col0\" >48</td>\n",
              "            </tr>\n",
              "            <tr>\n",
              "                        <th id=\"T_59e45280_6ddb_11ea_b6ea_0242ac1c0002level0_row27\" class=\"row_heading level0 row27\" >Hong Kong</th>\n",
              "                        <td id=\"T_59e45280_6ddb_11ea_b6ea_0242ac1c0002row27_col0\" class=\"data row27 col0\" >48</td>\n",
              "            </tr>\n",
              "            <tr>\n",
              "                        <th id=\"T_59e45280_6ddb_11ea_b6ea_0242ac1c0002level0_row28\" class=\"row_heading level0 row28\" >Belgium</th>\n",
              "                        <td id=\"T_59e45280_6ddb_11ea_b6ea_0242ac1c0002row28_col0\" class=\"data row28 col0\" >48</td>\n",
              "            </tr>\n",
              "            <tr>\n",
              "                        <th id=\"T_59e45280_6ddb_11ea_b6ea_0242ac1c0002level0_row29\" class=\"row_heading level0 row29\" >Denmark</th>\n",
              "                        <td id=\"T_59e45280_6ddb_11ea_b6ea_0242ac1c0002row29_col0\" class=\"data row29 col0\" >41</td>\n",
              "            </tr>\n",
              "            <tr>\n",
              "                        <th id=\"T_59e45280_6ddb_11ea_b6ea_0242ac1c0002level0_row30\" class=\"row_heading level0 row30\" >UK</th>\n",
              "                        <td id=\"T_59e45280_6ddb_11ea_b6ea_0242ac1c0002row30_col0\" class=\"data row30 col0\" >40</td>\n",
              "            </tr>\n",
              "            <tr>\n",
              "                        <th id=\"T_59e45280_6ddb_11ea_b6ea_0242ac1c0002level0_row31\" class=\"row_heading level0 row31\" >Netherlands</th>\n",
              "                        <td id=\"T_59e45280_6ddb_11ea_b6ea_0242ac1c0002row31_col0\" class=\"data row31 col0\" >40</td>\n",
              "            </tr>\n",
              "            <tr>\n",
              "                        <th id=\"T_59e45280_6ddb_11ea_b6ea_0242ac1c0002level0_row32\" class=\"row_heading level0 row32\" >Egypt</th>\n",
              "                        <td id=\"T_59e45280_6ddb_11ea_b6ea_0242ac1c0002row32_col0\" class=\"data row32 col0\" >38</td>\n",
              "            </tr>\n",
              "            <tr>\n",
              "                        <th id=\"T_59e45280_6ddb_11ea_b6ea_0242ac1c0002level0_row33\" class=\"row_heading level0 row33\" >Others</th>\n",
              "                        <td id=\"T_59e45280_6ddb_11ea_b6ea_0242ac1c0002row33_col0\" class=\"data row33 col0\" >33</td>\n",
              "            </tr>\n",
              "            <tr>\n",
              "                        <th id=\"T_59e45280_6ddb_11ea_b6ea_0242ac1c0002level0_row34\" class=\"row_heading level0 row34\" >Iran</th>\n",
              "                        <td id=\"T_59e45280_6ddb_11ea_b6ea_0242ac1c0002row34_col0\" class=\"data row34 col0\" >32</td>\n",
              "            </tr>\n",
              "            <tr>\n",
              "                        <th id=\"T_59e45280_6ddb_11ea_b6ea_0242ac1c0002level0_row35\" class=\"row_heading level0 row35\" >Israel</th>\n",
              "                        <td id=\"T_59e45280_6ddb_11ea_b6ea_0242ac1c0002row35_col0\" class=\"data row35 col0\" >31</td>\n",
              "            </tr>\n",
              "            <tr>\n",
              "                        <th id=\"T_59e45280_6ddb_11ea_b6ea_0242ac1c0002level0_row36\" class=\"row_heading level0 row36\" >Lebanon</th>\n",
              "                        <td id=\"T_59e45280_6ddb_11ea_b6ea_0242ac1c0002row36_col0\" class=\"data row36 col0\" >31</td>\n",
              "            </tr>\n",
              "            <tr>\n",
              "                        <th id=\"T_59e45280_6ddb_11ea_b6ea_0242ac1c0002level0_row37\" class=\"row_heading level0 row37\" >Iraq</th>\n",
              "                        <td id=\"T_59e45280_6ddb_11ea_b6ea_0242ac1c0002row37_col0\" class=\"data row37 col0\" >29</td>\n",
              "            </tr>\n",
              "            <tr>\n",
              "                        <th id=\"T_59e45280_6ddb_11ea_b6ea_0242ac1c0002level0_row38\" class=\"row_heading level0 row38\" >Afghanistan</th>\n",
              "                        <td id=\"T_59e45280_6ddb_11ea_b6ea_0242ac1c0002row38_col0\" class=\"data row38 col0\" >28</td>\n",
              "            </tr>\n",
              "            <tr>\n",
              "                        <th id=\"T_59e45280_6ddb_11ea_b6ea_0242ac1c0002level0_row39\" class=\"row_heading level0 row39\" >Oman</th>\n",
              "                        <td id=\"T_59e45280_6ddb_11ea_b6ea_0242ac1c0002row39_col0\" class=\"data row39 col0\" >28</td>\n",
              "            </tr>\n",
              "            <tr>\n",
              "                        <th id=\"T_59e45280_6ddb_11ea_b6ea_0242ac1c0002level0_row40\" class=\"row_heading level0 row40\" >Kuwait</th>\n",
              "                        <td id=\"T_59e45280_6ddb_11ea_b6ea_0242ac1c0002row40_col0\" class=\"data row40 col0\" >28</td>\n",
              "            </tr>\n",
              "            <tr>\n",
              "                        <th id=\"T_59e45280_6ddb_11ea_b6ea_0242ac1c0002level0_row41\" class=\"row_heading level0 row41\" >Bahrain</th>\n",
              "                        <td id=\"T_59e45280_6ddb_11ea_b6ea_0242ac1c0002row41_col0\" class=\"data row41 col0\" >28</td>\n",
              "            </tr>\n",
              "            <tr>\n",
              "                        <th id=\"T_59e45280_6ddb_11ea_b6ea_0242ac1c0002level0_row42\" class=\"row_heading level0 row42\" >Croatia</th>\n",
              "                        <td id=\"T_59e45280_6ddb_11ea_b6ea_0242ac1c0002row42_col0\" class=\"data row42 col0\" >27</td>\n",
              "            </tr>\n",
              "            <tr>\n",
              "                        <th id=\"T_59e45280_6ddb_11ea_b6ea_0242ac1c0002level0_row43\" class=\"row_heading level0 row43\" >Austria</th>\n",
              "                        <td id=\"T_59e45280_6ddb_11ea_b6ea_0242ac1c0002row43_col0\" class=\"data row43 col0\" >27</td>\n",
              "            </tr>\n",
              "            <tr>\n",
              "                        <th id=\"T_59e45280_6ddb_11ea_b6ea_0242ac1c0002level0_row44\" class=\"row_heading level0 row44\" >Brazil</th>\n",
              "                        <td id=\"T_59e45280_6ddb_11ea_b6ea_0242ac1c0002row44_col0\" class=\"data row44 col0\" >27</td>\n",
              "            </tr>\n",
              "            <tr>\n",
              "                        <th id=\"T_59e45280_6ddb_11ea_b6ea_0242ac1c0002level0_row45\" class=\"row_heading level0 row45\" >Switzerland</th>\n",
              "                        <td id=\"T_59e45280_6ddb_11ea_b6ea_0242ac1c0002row45_col0\" class=\"data row45 col0\" >27</td>\n",
              "            </tr>\n",
              "            <tr>\n",
              "                        <th id=\"T_59e45280_6ddb_11ea_b6ea_0242ac1c0002level0_row46\" class=\"row_heading level0 row46\" >Algeria</th>\n",
              "                        <td id=\"T_59e45280_6ddb_11ea_b6ea_0242ac1c0002row46_col0\" class=\"data row46 col0\" >27</td>\n",
              "            </tr>\n",
              "            <tr>\n",
              "                        <th id=\"T_59e45280_6ddb_11ea_b6ea_0242ac1c0002level0_row47\" class=\"row_heading level0 row47\" >Norway</th>\n",
              "                        <td id=\"T_59e45280_6ddb_11ea_b6ea_0242ac1c0002row47_col0\" class=\"data row47 col0\" >26</td>\n",
              "            </tr>\n",
              "            <tr>\n",
              "                        <th id=\"T_59e45280_6ddb_11ea_b6ea_0242ac1c0002level0_row48\" class=\"row_heading level0 row48\" >Georgia</th>\n",
              "                        <td id=\"T_59e45280_6ddb_11ea_b6ea_0242ac1c0002row48_col0\" class=\"data row48 col0\" >26</td>\n",
              "            </tr>\n",
              "            <tr>\n",
              "                        <th id=\"T_59e45280_6ddb_11ea_b6ea_0242ac1c0002level0_row49\" class=\"row_heading level0 row49\" >Romania</th>\n",
              "                        <td id=\"T_59e45280_6ddb_11ea_b6ea_0242ac1c0002row49_col0\" class=\"data row49 col0\" >26</td>\n",
              "            </tr>\n",
              "            <tr>\n",
              "                        <th id=\"T_59e45280_6ddb_11ea_b6ea_0242ac1c0002level0_row50\" class=\"row_heading level0 row50\" >North Macedonia</th>\n",
              "                        <td id=\"T_59e45280_6ddb_11ea_b6ea_0242ac1c0002row50_col0\" class=\"data row50 col0\" >26</td>\n",
              "            </tr>\n",
              "            <tr>\n",
              "                        <th id=\"T_59e45280_6ddb_11ea_b6ea_0242ac1c0002level0_row51\" class=\"row_heading level0 row51\" >Pakistan</th>\n",
              "                        <td id=\"T_59e45280_6ddb_11ea_b6ea_0242ac1c0002row51_col0\" class=\"data row51 col0\" >26</td>\n",
              "            </tr>\n",
              "            <tr>\n",
              "                        <th id=\"T_59e45280_6ddb_11ea_b6ea_0242ac1c0002level0_row52\" class=\"row_heading level0 row52\" >Greece</th>\n",
              "                        <td id=\"T_59e45280_6ddb_11ea_b6ea_0242ac1c0002row52_col0\" class=\"data row52 col0\" >26</td>\n",
              "            </tr>\n",
              "            <tr>\n",
              "                        <th id=\"T_59e45280_6ddb_11ea_b6ea_0242ac1c0002level0_row53\" class=\"row_heading level0 row53\" >Estonia</th>\n",
              "                        <td id=\"T_59e45280_6ddb_11ea_b6ea_0242ac1c0002row53_col0\" class=\"data row53 col0\" >25</td>\n",
              "            </tr>\n",
              "            <tr>\n",
              "                        <th id=\"T_59e45280_6ddb_11ea_b6ea_0242ac1c0002level0_row54\" class=\"row_heading level0 row54\" >San Marino</th>\n",
              "                        <td id=\"T_59e45280_6ddb_11ea_b6ea_0242ac1c0002row54_col0\" class=\"data row54 col0\" >25</td>\n",
              "            </tr>\n",
              "            <tr>\n",
              "                        <th id=\"T_59e45280_6ddb_11ea_b6ea_0242ac1c0002level0_row55\" class=\"row_heading level0 row55\" >Mexico</th>\n",
              "                        <td id=\"T_59e45280_6ddb_11ea_b6ea_0242ac1c0002row55_col0\" class=\"data row55 col0\" >25</td>\n",
              "            </tr>\n",
              "            <tr>\n",
              "                        <th id=\"T_59e45280_6ddb_11ea_b6ea_0242ac1c0002level0_row56\" class=\"row_heading level0 row56\" >New Zealand</th>\n",
              "                        <td id=\"T_59e45280_6ddb_11ea_b6ea_0242ac1c0002row56_col0\" class=\"data row56 col0\" >24</td>\n",
              "            </tr>\n",
              "            <tr>\n",
              "                        <th id=\"T_59e45280_6ddb_11ea_b6ea_0242ac1c0002level0_row57\" class=\"row_heading level0 row57\" >Iceland</th>\n",
              "                        <td id=\"T_59e45280_6ddb_11ea_b6ea_0242ac1c0002row57_col0\" class=\"data row57 col0\" >24</td>\n",
              "            </tr>\n",
              "            <tr>\n",
              "                        <th id=\"T_59e45280_6ddb_11ea_b6ea_0242ac1c0002level0_row58\" class=\"row_heading level0 row58\" >Belarus</th>\n",
              "                        <td id=\"T_59e45280_6ddb_11ea_b6ea_0242ac1c0002row58_col0\" class=\"data row58 col0\" >24</td>\n",
              "            </tr>\n",
              "            <tr>\n",
              "                        <th id=\"T_59e45280_6ddb_11ea_b6ea_0242ac1c0002level0_row59\" class=\"row_heading level0 row59\" >Lithuania</th>\n",
              "                        <td id=\"T_59e45280_6ddb_11ea_b6ea_0242ac1c0002row59_col0\" class=\"data row59 col0\" >24</td>\n",
              "            </tr>\n",
              "            <tr>\n",
              "                        <th id=\"T_59e45280_6ddb_11ea_b6ea_0242ac1c0002level0_row60\" class=\"row_heading level0 row60\" >Nigeria</th>\n",
              "                        <td id=\"T_59e45280_6ddb_11ea_b6ea_0242ac1c0002row60_col0\" class=\"data row60 col0\" >24</td>\n",
              "            </tr>\n",
              "            <tr>\n",
              "                        <th id=\"T_59e45280_6ddb_11ea_b6ea_0242ac1c0002level0_row61\" class=\"row_heading level0 row61\" >Monaco</th>\n",
              "                        <td id=\"T_59e45280_6ddb_11ea_b6ea_0242ac1c0002row61_col0\" class=\"data row61 col0\" >23</td>\n",
              "            </tr>\n",
              "            <tr>\n",
              "                        <th id=\"T_59e45280_6ddb_11ea_b6ea_0242ac1c0002level0_row62\" class=\"row_heading level0 row62\" >Qatar</th>\n",
              "                        <td id=\"T_59e45280_6ddb_11ea_b6ea_0242ac1c0002row62_col0\" class=\"data row62 col0\" >23</td>\n",
              "            </tr>\n",
              "            <tr>\n",
              "                        <th id=\"T_59e45280_6ddb_11ea_b6ea_0242ac1c0002level0_row63\" class=\"row_heading level0 row63\" >Ireland</th>\n",
              "                        <td id=\"T_59e45280_6ddb_11ea_b6ea_0242ac1c0002row63_col0\" class=\"data row63 col0\" >23</td>\n",
              "            </tr>\n",
              "            <tr>\n",
              "                        <th id=\"T_59e45280_6ddb_11ea_b6ea_0242ac1c0002level0_row64\" class=\"row_heading level0 row64\" >Luxembourg</th>\n",
              "                        <td id=\"T_59e45280_6ddb_11ea_b6ea_0242ac1c0002row64_col0\" class=\"data row64 col0\" >23</td>\n",
              "            </tr>\n",
              "            <tr>\n",
              "                        <th id=\"T_59e45280_6ddb_11ea_b6ea_0242ac1c0002level0_row65\" class=\"row_heading level0 row65\" >Ecuador</th>\n",
              "                        <td id=\"T_59e45280_6ddb_11ea_b6ea_0242ac1c0002row65_col0\" class=\"data row65 col0\" >22</td>\n",
              "            </tr>\n",
              "            <tr>\n",
              "                        <th id=\"T_59e45280_6ddb_11ea_b6ea_0242ac1c0002level0_row66\" class=\"row_heading level0 row66\" >Dominican Republic</th>\n",
              "                        <td id=\"T_59e45280_6ddb_11ea_b6ea_0242ac1c0002row66_col0\" class=\"data row66 col0\" >22</td>\n",
              "            </tr>\n",
              "            <tr>\n",
              "                        <th id=\"T_59e45280_6ddb_11ea_b6ea_0242ac1c0002level0_row67\" class=\"row_heading level0 row67\" >Azerbaijan</th>\n",
              "                        <td id=\"T_59e45280_6ddb_11ea_b6ea_0242ac1c0002row67_col0\" class=\"data row67 col0\" >22</td>\n",
              "            </tr>\n",
              "            <tr>\n",
              "                        <th id=\"T_59e45280_6ddb_11ea_b6ea_0242ac1c0002level0_row68\" class=\"row_heading level0 row68\" >Armenia</th>\n",
              "                        <td id=\"T_59e45280_6ddb_11ea_b6ea_0242ac1c0002row68_col0\" class=\"data row68 col0\" >22</td>\n",
              "            </tr>\n",
              "            <tr>\n",
              "                        <th id=\"T_59e45280_6ddb_11ea_b6ea_0242ac1c0002level0_row69\" class=\"row_heading level0 row69\" >Morocco</th>\n",
              "                        <td id=\"T_59e45280_6ddb_11ea_b6ea_0242ac1c0002row69_col0\" class=\"data row69 col0\" >21</td>\n",
              "            </tr>\n",
              "            <tr>\n",
              "                        <th id=\"T_59e45280_6ddb_11ea_b6ea_0242ac1c0002level0_row70\" class=\"row_heading level0 row70\" >Saudi Arabia</th>\n",
              "                        <td id=\"T_59e45280_6ddb_11ea_b6ea_0242ac1c0002row70_col0\" class=\"data row70 col0\" >21</td>\n",
              "            </tr>\n",
              "            <tr>\n",
              "                        <th id=\"T_59e45280_6ddb_11ea_b6ea_0242ac1c0002level0_row71\" class=\"row_heading level0 row71\" >Portugal</th>\n",
              "                        <td id=\"T_59e45280_6ddb_11ea_b6ea_0242ac1c0002row71_col0\" class=\"data row71 col0\" >21</td>\n",
              "            </tr>\n",
              "            <tr>\n",
              "                        <th id=\"T_59e45280_6ddb_11ea_b6ea_0242ac1c0002level0_row72\" class=\"row_heading level0 row72\" >Indonesia</th>\n",
              "                        <td id=\"T_59e45280_6ddb_11ea_b6ea_0242ac1c0002row72_col0\" class=\"data row72 col0\" >21</td>\n",
              "            </tr>\n",
              "            <tr>\n",
              "                        <th id=\"T_59e45280_6ddb_11ea_b6ea_0242ac1c0002level0_row73\" class=\"row_heading level0 row73\" >Latvia</th>\n",
              "                        <td id=\"T_59e45280_6ddb_11ea_b6ea_0242ac1c0002row73_col0\" class=\"data row73 col0\" >21</td>\n",
              "            </tr>\n",
              "            <tr>\n",
              "                        <th id=\"T_59e45280_6ddb_11ea_b6ea_0242ac1c0002level0_row74\" class=\"row_heading level0 row74\" >Senegal</th>\n",
              "                        <td id=\"T_59e45280_6ddb_11ea_b6ea_0242ac1c0002row74_col0\" class=\"data row74 col0\" >21</td>\n",
              "            </tr>\n",
              "            <tr>\n",
              "                        <th id=\"T_59e45280_6ddb_11ea_b6ea_0242ac1c0002level0_row75\" class=\"row_heading level0 row75\" >Andorra</th>\n",
              "                        <td id=\"T_59e45280_6ddb_11ea_b6ea_0242ac1c0002row75_col0\" class=\"data row75 col0\" >21</td>\n",
              "            </tr>\n",
              "            <tr>\n",
              "                        <th id=\"T_59e45280_6ddb_11ea_b6ea_0242ac1c0002level0_row76\" class=\"row_heading level0 row76\" >Argentina</th>\n",
              "                        <td id=\"T_59e45280_6ddb_11ea_b6ea_0242ac1c0002row76_col0\" class=\"data row76 col0\" >20</td>\n",
              "            </tr>\n",
              "            <tr>\n",
              "                        <th id=\"T_59e45280_6ddb_11ea_b6ea_0242ac1c0002level0_row77\" class=\"row_heading level0 row77\" >Jordan</th>\n",
              "                        <td id=\"T_59e45280_6ddb_11ea_b6ea_0242ac1c0002row77_col0\" class=\"data row77 col0\" >20</td>\n",
              "            </tr>\n",
              "            <tr>\n",
              "                        <th id=\"T_59e45280_6ddb_11ea_b6ea_0242ac1c0002level0_row78\" class=\"row_heading level0 row78\" >Ukraine</th>\n",
              "                        <td id=\"T_59e45280_6ddb_11ea_b6ea_0242ac1c0002row78_col0\" class=\"data row78 col0\" >20</td>\n",
              "            </tr>\n",
              "            <tr>\n",
              "                        <th id=\"T_59e45280_6ddb_11ea_b6ea_0242ac1c0002level0_row79\" class=\"row_heading level0 row79\" >Chile</th>\n",
              "                        <td id=\"T_59e45280_6ddb_11ea_b6ea_0242ac1c0002row79_col0\" class=\"data row79 col0\" >20</td>\n",
              "            </tr>\n",
              "            <tr>\n",
              "                        <th id=\"T_59e45280_6ddb_11ea_b6ea_0242ac1c0002level0_row80\" class=\"row_heading level0 row80\" >Poland</th>\n",
              "                        <td id=\"T_59e45280_6ddb_11ea_b6ea_0242ac1c0002row80_col0\" class=\"data row80 col0\" >19</td>\n",
              "            </tr>\n",
              "            <tr>\n",
              "                        <th id=\"T_59e45280_6ddb_11ea_b6ea_0242ac1c0002level0_row81\" class=\"row_heading level0 row81\" >Hungary</th>\n",
              "                        <td id=\"T_59e45280_6ddb_11ea_b6ea_0242ac1c0002row81_col0\" class=\"data row81 col0\" >19</td>\n",
              "            </tr>\n",
              "            <tr>\n",
              "                        <th id=\"T_59e45280_6ddb_11ea_b6ea_0242ac1c0002level0_row82\" class=\"row_heading level0 row82\" >Tunisia</th>\n",
              "                        <td id=\"T_59e45280_6ddb_11ea_b6ea_0242ac1c0002row82_col0\" class=\"data row82 col0\" >19</td>\n",
              "            </tr>\n",
              "            <tr>\n",
              "                        <th id=\"T_59e45280_6ddb_11ea_b6ea_0242ac1c0002level0_row83\" class=\"row_heading level0 row83\" >Liechtenstein</th>\n",
              "                        <td id=\"T_59e45280_6ddb_11ea_b6ea_0242ac1c0002row83_col0\" class=\"data row83 col0\" >19</td>\n",
              "            </tr>\n",
              "            <tr>\n",
              "                        <th id=\"T_59e45280_6ddb_11ea_b6ea_0242ac1c0002level0_row84\" class=\"row_heading level0 row84\" >South Africa</th>\n",
              "                        <td id=\"T_59e45280_6ddb_11ea_b6ea_0242ac1c0002row84_col0\" class=\"data row84 col0\" >18</td>\n",
              "            </tr>\n",
              "            <tr>\n",
              "                        <th id=\"T_59e45280_6ddb_11ea_b6ea_0242ac1c0002level0_row85\" class=\"row_heading level0 row85\" >Colombia</th>\n",
              "                        <td id=\"T_59e45280_6ddb_11ea_b6ea_0242ac1c0002row85_col0\" class=\"data row85 col0\" >18</td>\n",
              "            </tr>\n",
              "            <tr>\n",
              "                        <th id=\"T_59e45280_6ddb_11ea_b6ea_0242ac1c0002level0_row86\" class=\"row_heading level0 row86\" >Slovenia</th>\n",
              "                        <td id=\"T_59e45280_6ddb_11ea_b6ea_0242ac1c0002row86_col0\" class=\"data row86 col0\" >18</td>\n",
              "            </tr>\n",
              "            <tr>\n",
              "                        <th id=\"T_59e45280_6ddb_11ea_b6ea_0242ac1c0002level0_row87\" class=\"row_heading level0 row87\" >Bosnia and Herzegovina</th>\n",
              "                        <td id=\"T_59e45280_6ddb_11ea_b6ea_0242ac1c0002row87_col0\" class=\"data row87 col0\" >18</td>\n",
              "            </tr>\n",
              "            <tr>\n",
              "                        <th id=\"T_59e45280_6ddb_11ea_b6ea_0242ac1c0002level0_row88\" class=\"row_heading level0 row88\" >Slovakia</th>\n",
              "                        <td id=\"T_59e45280_6ddb_11ea_b6ea_0242ac1c0002row88_col0\" class=\"data row88 col0\" >17</td>\n",
              "            </tr>\n",
              "            <tr>\n",
              "                        <th id=\"T_59e45280_6ddb_11ea_b6ea_0242ac1c0002level0_row89\" class=\"row_heading level0 row89\" >Bhutan</th>\n",
              "                        <td id=\"T_59e45280_6ddb_11ea_b6ea_0242ac1c0002row89_col0\" class=\"data row89 col0\" >17</td>\n",
              "            </tr>\n",
              "            <tr>\n",
              "                        <th id=\"T_59e45280_6ddb_11ea_b6ea_0242ac1c0002level0_row90\" class=\"row_heading level0 row90\" >Serbia</th>\n",
              "                        <td id=\"T_59e45280_6ddb_11ea_b6ea_0242ac1c0002row90_col0\" class=\"data row90 col0\" >17</td>\n",
              "            </tr>\n",
              "            <tr>\n",
              "                        <th id=\"T_59e45280_6ddb_11ea_b6ea_0242ac1c0002level0_row91\" class=\"row_heading level0 row91\" >Peru</th>\n",
              "                        <td id=\"T_59e45280_6ddb_11ea_b6ea_0242ac1c0002row91_col0\" class=\"data row91 col0\" >17</td>\n",
              "            </tr>\n",
              "            <tr>\n",
              "                        <th id=\"T_59e45280_6ddb_11ea_b6ea_0242ac1c0002level0_row92\" class=\"row_heading level0 row92\" >Togo</th>\n",
              "                        <td id=\"T_59e45280_6ddb_11ea_b6ea_0242ac1c0002row92_col0\" class=\"data row92 col0\" >17</td>\n",
              "            </tr>\n",
              "            <tr>\n",
              "                        <th id=\"T_59e45280_6ddb_11ea_b6ea_0242ac1c0002level0_row93\" class=\"row_heading level0 row93\" >Cameroon</th>\n",
              "                        <td id=\"T_59e45280_6ddb_11ea_b6ea_0242ac1c0002row93_col0\" class=\"data row93 col0\" >17</td>\n",
              "            </tr>\n",
              "            <tr>\n",
              "                        <th id=\"T_59e45280_6ddb_11ea_b6ea_0242ac1c0002level0_row94\" class=\"row_heading level0 row94\" >Costa Rica</th>\n",
              "                        <td id=\"T_59e45280_6ddb_11ea_b6ea_0242ac1c0002row94_col0\" class=\"data row94 col0\" >17</td>\n",
              "            </tr>\n",
              "            <tr>\n",
              "                        <th id=\"T_59e45280_6ddb_11ea_b6ea_0242ac1c0002level0_row95\" class=\"row_heading level0 row95\" >Martinique</th>\n",
              "                        <td id=\"T_59e45280_6ddb_11ea_b6ea_0242ac1c0002row95_col0\" class=\"data row95 col0\" >16</td>\n",
              "            </tr>\n",
              "            <tr>\n",
              "                        <th id=\"T_59e45280_6ddb_11ea_b6ea_0242ac1c0002level0_row96\" class=\"row_heading level0 row96\" >Malta</th>\n",
              "                        <td id=\"T_59e45280_6ddb_11ea_b6ea_0242ac1c0002row96_col0\" class=\"data row96 col0\" >16</td>\n",
              "            </tr>\n",
              "            <tr>\n",
              "                        <th id=\"T_59e45280_6ddb_11ea_b6ea_0242ac1c0002level0_row97\" class=\"row_heading level0 row97\" >Bulgaria</th>\n",
              "                        <td id=\"T_59e45280_6ddb_11ea_b6ea_0242ac1c0002row97_col0\" class=\"data row97 col0\" >15</td>\n",
              "            </tr>\n",
              "            <tr>\n",
              "                        <th id=\"T_59e45280_6ddb_11ea_b6ea_0242ac1c0002level0_row98\" class=\"row_heading level0 row98\" >Paraguay</th>\n",
              "                        <td id=\"T_59e45280_6ddb_11ea_b6ea_0242ac1c0002row98_col0\" class=\"data row98 col0\" >15</td>\n",
              "            </tr>\n",
              "            <tr>\n",
              "                        <th id=\"T_59e45280_6ddb_11ea_b6ea_0242ac1c0002level0_row99\" class=\"row_heading level0 row99\" >Maldives</th>\n",
              "                        <td id=\"T_59e45280_6ddb_11ea_b6ea_0242ac1c0002row99_col0\" class=\"data row99 col0\" >15</td>\n",
              "            </tr>\n",
              "            <tr>\n",
              "                        <th id=\"T_59e45280_6ddb_11ea_b6ea_0242ac1c0002level0_row100\" class=\"row_heading level0 row100\" >Bangladesh</th>\n",
              "                        <td id=\"T_59e45280_6ddb_11ea_b6ea_0242ac1c0002row100_col0\" class=\"data row100 col0\" >15</td>\n",
              "            </tr>\n",
              "            <tr>\n",
              "                        <th id=\"T_59e45280_6ddb_11ea_b6ea_0242ac1c0002level0_row101\" class=\"row_heading level0 row101\" >French Guiana</th>\n",
              "                        <td id=\"T_59e45280_6ddb_11ea_b6ea_0242ac1c0002row101_col0\" class=\"data row101 col0\" >15</td>\n",
              "            </tr>\n",
              "            <tr>\n",
              "                        <th id=\"T_59e45280_6ddb_11ea_b6ea_0242ac1c0002level0_row102\" class=\"row_heading level0 row102\" >Albania</th>\n",
              "                        <td id=\"T_59e45280_6ddb_11ea_b6ea_0242ac1c0002row102_col0\" class=\"data row102 col0\" >14</td>\n",
              "            </tr>\n",
              "            <tr>\n",
              "                        <th id=\"T_59e45280_6ddb_11ea_b6ea_0242ac1c0002level0_row103\" class=\"row_heading level0 row103\" >Cyprus</th>\n",
              "                        <td id=\"T_59e45280_6ddb_11ea_b6ea_0242ac1c0002row103_col0\" class=\"data row103 col0\" >14</td>\n",
              "            </tr>\n",
              "            <tr>\n",
              "                        <th id=\"T_59e45280_6ddb_11ea_b6ea_0242ac1c0002level0_row104\" class=\"row_heading level0 row104\" >Moldova</th>\n",
              "                        <td id=\"T_59e45280_6ddb_11ea_b6ea_0242ac1c0002row104_col0\" class=\"data row104 col0\" >14</td>\n",
              "            </tr>\n",
              "            <tr>\n",
              "                        <th id=\"T_59e45280_6ddb_11ea_b6ea_0242ac1c0002level0_row105\" class=\"row_heading level0 row105\" >Brunei</th>\n",
              "                        <td id=\"T_59e45280_6ddb_11ea_b6ea_0242ac1c0002row105_col0\" class=\"data row105 col0\" >14</td>\n",
              "            </tr>\n",
              "            <tr>\n",
              "                        <th id=\"T_59e45280_6ddb_11ea_b6ea_0242ac1c0002level0_row106\" class=\"row_heading level0 row106\" >Holy See</th>\n",
              "                        <td id=\"T_59e45280_6ddb_11ea_b6ea_0242ac1c0002row106_col0\" class=\"data row106 col0\" >13</td>\n",
              "            </tr>\n",
              "            <tr>\n",
              "                        <th id=\"T_59e45280_6ddb_11ea_b6ea_0242ac1c0002level0_row107\" class=\"row_heading level0 row107\" >Mongolia</th>\n",
              "                        <td id=\"T_59e45280_6ddb_11ea_b6ea_0242ac1c0002row107_col0\" class=\"data row107 col0\" >13</td>\n",
              "            </tr>\n",
              "            <tr>\n",
              "                        <th id=\"T_59e45280_6ddb_11ea_b6ea_0242ac1c0002level0_row108\" class=\"row_heading level0 row108\" >Burkina Faso</th>\n",
              "                        <td id=\"T_59e45280_6ddb_11ea_b6ea_0242ac1c0002row108_col0\" class=\"data row108 col0\" >13</td>\n",
              "            </tr>\n",
              "            <tr>\n",
              "                        <th id=\"T_59e45280_6ddb_11ea_b6ea_0242ac1c0002level0_row109\" class=\"row_heading level0 row109\" >Panama</th>\n",
              "                        <td id=\"T_59e45280_6ddb_11ea_b6ea_0242ac1c0002row109_col0\" class=\"data row109 col0\" >13</td>\n",
              "            </tr>\n",
              "            <tr>\n",
              "                        <th id=\"T_59e45280_6ddb_11ea_b6ea_0242ac1c0002level0_row110\" class=\"row_heading level0 row110\" >Cruise Ship</th>\n",
              "                        <td id=\"T_59e45280_6ddb_11ea_b6ea_0242ac1c0002row110_col0\" class=\"data row110 col0\" >12</td>\n",
              "            </tr>\n",
              "            <tr>\n",
              "                        <th id=\"T_59e45280_6ddb_11ea_b6ea_0242ac1c0002level0_row111\" class=\"row_heading level0 row111\" >Taiwan*</th>\n",
              "                        <td id=\"T_59e45280_6ddb_11ea_b6ea_0242ac1c0002row111_col0\" class=\"data row111 col0\" >12</td>\n",
              "            </tr>\n",
              "            <tr>\n",
              "                        <th id=\"T_59e45280_6ddb_11ea_b6ea_0242ac1c0002level0_row112\" class=\"row_heading level0 row112\" >Czechia</th>\n",
              "                        <td id=\"T_59e45280_6ddb_11ea_b6ea_0242ac1c0002row112_col0\" class=\"data row112 col0\" >12</td>\n",
              "            </tr>\n",
              "            <tr>\n",
              "                        <th id=\"T_59e45280_6ddb_11ea_b6ea_0242ac1c0002level0_row113\" class=\"row_heading level0 row113\" >Reunion</th>\n",
              "                        <td id=\"T_59e45280_6ddb_11ea_b6ea_0242ac1c0002row113_col0\" class=\"data row113 col0\" >12</td>\n",
              "            </tr>\n",
              "            <tr>\n",
              "                        <th id=\"T_59e45280_6ddb_11ea_b6ea_0242ac1c0002level0_row114\" class=\"row_heading level0 row114\" >Bolivia</th>\n",
              "                        <td id=\"T_59e45280_6ddb_11ea_b6ea_0242ac1c0002row114_col0\" class=\"data row114 col0\" >12</td>\n",
              "            </tr>\n",
              "            <tr>\n",
              "                        <th id=\"T_59e45280_6ddb_11ea_b6ea_0242ac1c0002level0_row115\" class=\"row_heading level0 row115\" >Congo (Kinshasa)</th>\n",
              "                        <td id=\"T_59e45280_6ddb_11ea_b6ea_0242ac1c0002row115_col0\" class=\"data row115 col0\" >12</td>\n",
              "            </tr>\n",
              "            <tr>\n",
              "                        <th id=\"T_59e45280_6ddb_11ea_b6ea_0242ac1c0002level0_row116\" class=\"row_heading level0 row116\" >Turkey</th>\n",
              "                        <td id=\"T_59e45280_6ddb_11ea_b6ea_0242ac1c0002row116_col0\" class=\"data row116 col0\" >12</td>\n",
              "            </tr>\n",
              "            <tr>\n",
              "                        <th id=\"T_59e45280_6ddb_11ea_b6ea_0242ac1c0002level0_row117\" class=\"row_heading level0 row117\" >Jamaica</th>\n",
              "                        <td id=\"T_59e45280_6ddb_11ea_b6ea_0242ac1c0002row117_col0\" class=\"data row117 col0\" >12</td>\n",
              "            </tr>\n",
              "            <tr>\n",
              "                        <th id=\"T_59e45280_6ddb_11ea_b6ea_0242ac1c0002level0_row118\" class=\"row_heading level0 row118\" >Honduras</th>\n",
              "                        <td id=\"T_59e45280_6ddb_11ea_b6ea_0242ac1c0002row118_col0\" class=\"data row118 col0\" >12</td>\n",
              "            </tr>\n",
              "            <tr>\n",
              "                        <th id=\"T_59e45280_6ddb_11ea_b6ea_0242ac1c0002level0_row119\" class=\"row_heading level0 row119\" >Korea, South</th>\n",
              "                        <td id=\"T_59e45280_6ddb_11ea_b6ea_0242ac1c0002row119_col0\" class=\"data row119 col0\" >12</td>\n",
              "            </tr>\n",
              "            <tr>\n",
              "                        <th id=\"T_59e45280_6ddb_11ea_b6ea_0242ac1c0002level0_row120\" class=\"row_heading level0 row120\" >Cote d'Ivoire</th>\n",
              "                        <td id=\"T_59e45280_6ddb_11ea_b6ea_0242ac1c0002row120_col0\" class=\"data row120 col0\" >12</td>\n",
              "            </tr>\n",
              "            <tr>\n",
              "                        <th id=\"T_59e45280_6ddb_11ea_b6ea_0242ac1c0002level0_row121\" class=\"row_heading level0 row121\" >Guyana</th>\n",
              "                        <td id=\"T_59e45280_6ddb_11ea_b6ea_0242ac1c0002row121_col0\" class=\"data row121 col0\" >11</td>\n",
              "            </tr>\n",
              "            <tr>\n",
              "                        <th id=\"T_59e45280_6ddb_11ea_b6ea_0242ac1c0002level0_row122\" class=\"row_heading level0 row122\" >Cuba</th>\n",
              "                        <td id=\"T_59e45280_6ddb_11ea_b6ea_0242ac1c0002row122_col0\" class=\"data row122 col0\" >11</td>\n",
              "            </tr>\n",
              "            <tr>\n",
              "                        <th id=\"T_59e45280_6ddb_11ea_b6ea_0242ac1c0002level0_row123\" class=\"row_heading level0 row123\" >Kenya</th>\n",
              "                        <td id=\"T_59e45280_6ddb_11ea_b6ea_0242ac1c0002row123_col0\" class=\"data row123 col0\" >10</td>\n",
              "            </tr>\n",
              "            <tr>\n",
              "                        <th id=\"T_59e45280_6ddb_11ea_b6ea_0242ac1c0002level0_row124\" class=\"row_heading level0 row124\" >Antigua and Barbuda</th>\n",
              "                        <td id=\"T_59e45280_6ddb_11ea_b6ea_0242ac1c0002row124_col0\" class=\"data row124 col0\" >10</td>\n",
              "            </tr>\n",
              "            <tr>\n",
              "                        <th id=\"T_59e45280_6ddb_11ea_b6ea_0242ac1c0002level0_row125\" class=\"row_heading level0 row125\" >Czech Republic</th>\n",
              "                        <td id=\"T_59e45280_6ddb_11ea_b6ea_0242ac1c0002row125_col0\" class=\"data row125 col0\" >10</td>\n",
              "            </tr>\n",
              "            <tr>\n",
              "                        <th id=\"T_59e45280_6ddb_11ea_b6ea_0242ac1c0002level0_row126\" class=\"row_heading level0 row126\" >Guinea</th>\n",
              "                        <td id=\"T_59e45280_6ddb_11ea_b6ea_0242ac1c0002row126_col0\" class=\"data row126 col0\" >10</td>\n",
              "            </tr>\n",
              "            <tr>\n",
              "                        <th id=\"T_59e45280_6ddb_11ea_b6ea_0242ac1c0002level0_row127\" class=\"row_heading level0 row127\" >Kazakhstan</th>\n",
              "                        <td id=\"T_59e45280_6ddb_11ea_b6ea_0242ac1c0002row127_col0\" class=\"data row127 col0\" >10</td>\n",
              "            </tr>\n",
              "            <tr>\n",
              "                        <th id=\"T_59e45280_6ddb_11ea_b6ea_0242ac1c0002level0_row128\" class=\"row_heading level0 row128\" >Ethiopia</th>\n",
              "                        <td id=\"T_59e45280_6ddb_11ea_b6ea_0242ac1c0002row128_col0\" class=\"data row128 col0\" >10</td>\n",
              "            </tr>\n",
              "            <tr>\n",
              "                        <th id=\"T_59e45280_6ddb_11ea_b6ea_0242ac1c0002level0_row129\" class=\"row_heading level0 row129\" >Sudan</th>\n",
              "                        <td id=\"T_59e45280_6ddb_11ea_b6ea_0242ac1c0002row129_col0\" class=\"data row129 col0\" >10</td>\n",
              "            </tr>\n",
              "            <tr>\n",
              "                        <th id=\"T_59e45280_6ddb_11ea_b6ea_0242ac1c0002level0_row130\" class=\"row_heading level0 row130\" >Guadeloupe</th>\n",
              "                        <td id=\"T_59e45280_6ddb_11ea_b6ea_0242ac1c0002row130_col0\" class=\"data row130 col0\" >10</td>\n",
              "            </tr>\n",
              "            <tr>\n",
              "                        <th id=\"T_59e45280_6ddb_11ea_b6ea_0242ac1c0002level0_row131\" class=\"row_heading level0 row131\" >Guernsey</th>\n",
              "                        <td id=\"T_59e45280_6ddb_11ea_b6ea_0242ac1c0002row131_col0\" class=\"data row131 col0\" >9</td>\n",
              "            </tr>\n",
              "            <tr>\n",
              "                        <th id=\"T_59e45280_6ddb_11ea_b6ea_0242ac1c0002level0_row132\" class=\"row_heading level0 row132\" >Mauritania</th>\n",
              "                        <td id=\"T_59e45280_6ddb_11ea_b6ea_0242ac1c0002row132_col0\" class=\"data row132 col0\" >9</td>\n",
              "            </tr>\n",
              "            <tr>\n",
              "                        <th id=\"T_59e45280_6ddb_11ea_b6ea_0242ac1c0002level0_row133\" class=\"row_heading level0 row133\" >Suriname</th>\n",
              "                        <td id=\"T_59e45280_6ddb_11ea_b6ea_0242ac1c0002row133_col0\" class=\"data row133 col0\" >9</td>\n",
              "            </tr>\n",
              "            <tr>\n",
              "                        <th id=\"T_59e45280_6ddb_11ea_b6ea_0242ac1c0002level0_row134\" class=\"row_heading level0 row134\" >Rwanda</th>\n",
              "                        <td id=\"T_59e45280_6ddb_11ea_b6ea_0242ac1c0002row134_col0\" class=\"data row134 col0\" >9</td>\n",
              "            </tr>\n",
              "            <tr>\n",
              "                        <th id=\"T_59e45280_6ddb_11ea_b6ea_0242ac1c0002level0_row135\" class=\"row_heading level0 row135\" >Jersey</th>\n",
              "                        <td id=\"T_59e45280_6ddb_11ea_b6ea_0242ac1c0002row135_col0\" class=\"data row135 col0\" >9</td>\n",
              "            </tr>\n",
              "            <tr>\n",
              "                        <th id=\"T_59e45280_6ddb_11ea_b6ea_0242ac1c0002level0_row136\" class=\"row_heading level0 row136\" >Saint Vincent and the Grenadines</th>\n",
              "                        <td id=\"T_59e45280_6ddb_11ea_b6ea_0242ac1c0002row136_col0\" class=\"data row136 col0\" >9</td>\n",
              "            </tr>\n",
              "            <tr>\n",
              "                        <th id=\"T_59e45280_6ddb_11ea_b6ea_0242ac1c0002level0_row137\" class=\"row_heading level0 row137\" >Eswatini</th>\n",
              "                        <td id=\"T_59e45280_6ddb_11ea_b6ea_0242ac1c0002row137_col0\" class=\"data row137 col0\" >9</td>\n",
              "            </tr>\n",
              "            <tr>\n",
              "                        <th id=\"T_59e45280_6ddb_11ea_b6ea_0242ac1c0002level0_row138\" class=\"row_heading level0 row138\" >Namibia</th>\n",
              "                        <td id=\"T_59e45280_6ddb_11ea_b6ea_0242ac1c0002row138_col0\" class=\"data row138 col0\" >9</td>\n",
              "            </tr>\n",
              "            <tr>\n",
              "                        <th id=\"T_59e45280_6ddb_11ea_b6ea_0242ac1c0002level0_row139\" class=\"row_heading level0 row139\" >Ghana</th>\n",
              "                        <td id=\"T_59e45280_6ddb_11ea_b6ea_0242ac1c0002row139_col0\" class=\"data row139 col0\" >9</td>\n",
              "            </tr>\n",
              "            <tr>\n",
              "                        <th id=\"T_59e45280_6ddb_11ea_b6ea_0242ac1c0002level0_row140\" class=\"row_heading level0 row140\" >Venezuela</th>\n",
              "                        <td id=\"T_59e45280_6ddb_11ea_b6ea_0242ac1c0002row140_col0\" class=\"data row140 col0\" >9</td>\n",
              "            </tr>\n",
              "            <tr>\n",
              "                        <th id=\"T_59e45280_6ddb_11ea_b6ea_0242ac1c0002level0_row141\" class=\"row_heading level0 row141\" >Seychelles</th>\n",
              "                        <td id=\"T_59e45280_6ddb_11ea_b6ea_0242ac1c0002row141_col0\" class=\"data row141 col0\" >9</td>\n",
              "            </tr>\n",
              "            <tr>\n",
              "                        <th id=\"T_59e45280_6ddb_11ea_b6ea_0242ac1c0002level0_row142\" class=\"row_heading level0 row142\" >Saint Lucia</th>\n",
              "                        <td id=\"T_59e45280_6ddb_11ea_b6ea_0242ac1c0002row142_col0\" class=\"data row142 col0\" >9</td>\n",
              "            </tr>\n",
              "            <tr>\n",
              "                        <th id=\"T_59e45280_6ddb_11ea_b6ea_0242ac1c0002level0_row143\" class=\"row_heading level0 row143\" >Uruguay</th>\n",
              "                        <td id=\"T_59e45280_6ddb_11ea_b6ea_0242ac1c0002row143_col0\" class=\"data row143 col0\" >9</td>\n",
              "            </tr>\n",
              "            <tr>\n",
              "                        <th id=\"T_59e45280_6ddb_11ea_b6ea_0242ac1c0002level0_row144\" class=\"row_heading level0 row144\" >Gabon</th>\n",
              "                        <td id=\"T_59e45280_6ddb_11ea_b6ea_0242ac1c0002row144_col0\" class=\"data row144 col0\" >9</td>\n",
              "            </tr>\n",
              "            <tr>\n",
              "                        <th id=\"T_59e45280_6ddb_11ea_b6ea_0242ac1c0002level0_row145\" class=\"row_heading level0 row145\" >Guatemala</th>\n",
              "                        <td id=\"T_59e45280_6ddb_11ea_b6ea_0242ac1c0002row145_col0\" class=\"data row145 col0\" >9</td>\n",
              "            </tr>\n",
              "            <tr>\n",
              "                        <th id=\"T_59e45280_6ddb_11ea_b6ea_0242ac1c0002level0_row146\" class=\"row_heading level0 row146\" >Trinidad and Tobago</th>\n",
              "                        <td id=\"T_59e45280_6ddb_11ea_b6ea_0242ac1c0002row146_col0\" class=\"data row146 col0\" >9</td>\n",
              "            </tr>\n",
              "            <tr>\n",
              "                        <th id=\"T_59e45280_6ddb_11ea_b6ea_0242ac1c0002level0_row147\" class=\"row_heading level0 row147\" >Congo (Brazzaville)</th>\n",
              "                        <td id=\"T_59e45280_6ddb_11ea_b6ea_0242ac1c0002row147_col0\" class=\"data row147 col0\" >8</td>\n",
              "            </tr>\n",
              "            <tr>\n",
              "                        <th id=\"T_59e45280_6ddb_11ea_b6ea_0242ac1c0002level0_row148\" class=\"row_heading level0 row148\" >Kosovo</th>\n",
              "                        <td id=\"T_59e45280_6ddb_11ea_b6ea_0242ac1c0002row148_col0\" class=\"data row148 col0\" >8</td>\n",
              "            </tr>\n",
              "            <tr>\n",
              "                        <th id=\"T_59e45280_6ddb_11ea_b6ea_0242ac1c0002level0_row149\" class=\"row_heading level0 row149\" >Central African Republic</th>\n",
              "                        <td id=\"T_59e45280_6ddb_11ea_b6ea_0242ac1c0002row149_col0\" class=\"data row149 col0\" >8</td>\n",
              "            </tr>\n",
              "            <tr>\n",
              "                        <th id=\"T_59e45280_6ddb_11ea_b6ea_0242ac1c0002level0_row150\" class=\"row_heading level0 row150\" >Equatorial Guinea</th>\n",
              "                        <td id=\"T_59e45280_6ddb_11ea_b6ea_0242ac1c0002row150_col0\" class=\"data row150 col0\" >8</td>\n",
              "            </tr>\n",
              "            <tr>\n",
              "                        <th id=\"T_59e45280_6ddb_11ea_b6ea_0242ac1c0002level0_row151\" class=\"row_heading level0 row151\" >Uzbekistan</th>\n",
              "                        <td id=\"T_59e45280_6ddb_11ea_b6ea_0242ac1c0002row151_col0\" class=\"data row151 col0\" >8</td>\n",
              "            </tr>\n",
              "            <tr>\n",
              "                        <th id=\"T_59e45280_6ddb_11ea_b6ea_0242ac1c0002level0_row152\" class=\"row_heading level0 row152\" >Somalia</th>\n",
              "                        <td id=\"T_59e45280_6ddb_11ea_b6ea_0242ac1c0002row152_col0\" class=\"data row152 col0\" >7</td>\n",
              "            </tr>\n",
              "            <tr>\n",
              "                        <th id=\"T_59e45280_6ddb_11ea_b6ea_0242ac1c0002level0_row153\" class=\"row_heading level0 row153\" >Gibraltar</th>\n",
              "                        <td id=\"T_59e45280_6ddb_11ea_b6ea_0242ac1c0002row153_col0\" class=\"data row153 col0\" >7</td>\n",
              "            </tr>\n",
              "            <tr>\n",
              "                        <th id=\"T_59e45280_6ddb_11ea_b6ea_0242ac1c0002level0_row154\" class=\"row_heading level0 row154\" >The Bahamas</th>\n",
              "                        <td id=\"T_59e45280_6ddb_11ea_b6ea_0242ac1c0002row154_col0\" class=\"data row154 col0\" >7</td>\n",
              "            </tr>\n",
              "            <tr>\n",
              "                        <th id=\"T_59e45280_6ddb_11ea_b6ea_0242ac1c0002level0_row155\" class=\"row_heading level0 row155\" >Greenland</th>\n",
              "                        <td id=\"T_59e45280_6ddb_11ea_b6ea_0242ac1c0002row155_col0\" class=\"data row155 col0\" >7</td>\n",
              "            </tr>\n",
              "            <tr>\n",
              "                        <th id=\"T_59e45280_6ddb_11ea_b6ea_0242ac1c0002level0_row156\" class=\"row_heading level0 row156\" >Republic of the Congo</th>\n",
              "                        <td id=\"T_59e45280_6ddb_11ea_b6ea_0242ac1c0002row156_col0\" class=\"data row156 col0\" >7</td>\n",
              "            </tr>\n",
              "            <tr>\n",
              "                        <th id=\"T_59e45280_6ddb_11ea_b6ea_0242ac1c0002level0_row157\" class=\"row_heading level0 row157\" >Tanzania</th>\n",
              "                        <td id=\"T_59e45280_6ddb_11ea_b6ea_0242ac1c0002row157_col0\" class=\"data row157 col0\" >7</td>\n",
              "            </tr>\n",
              "            <tr>\n",
              "                        <th id=\"T_59e45280_6ddb_11ea_b6ea_0242ac1c0002level0_row158\" class=\"row_heading level0 row158\" >Saint Barthelemy</th>\n",
              "                        <td id=\"T_59e45280_6ddb_11ea_b6ea_0242ac1c0002row158_col0\" class=\"data row158 col0\" >7</td>\n",
              "            </tr>\n",
              "            <tr>\n",
              "                        <th id=\"T_59e45280_6ddb_11ea_b6ea_0242ac1c0002level0_row159\" class=\"row_heading level0 row159\" >Mayotte</th>\n",
              "                        <td id=\"T_59e45280_6ddb_11ea_b6ea_0242ac1c0002row159_col0\" class=\"data row159 col0\" >7</td>\n",
              "            </tr>\n",
              "            <tr>\n",
              "                        <th id=\"T_59e45280_6ddb_11ea_b6ea_0242ac1c0002level0_row160\" class=\"row_heading level0 row160\" >Guam</th>\n",
              "                        <td id=\"T_59e45280_6ddb_11ea_b6ea_0242ac1c0002row160_col0\" class=\"data row160 col0\" >7</td>\n",
              "            </tr>\n",
              "            <tr>\n",
              "                        <th id=\"T_59e45280_6ddb_11ea_b6ea_0242ac1c0002level0_row161\" class=\"row_heading level0 row161\" >occupied Palestinian territory</th>\n",
              "                        <td id=\"T_59e45280_6ddb_11ea_b6ea_0242ac1c0002row161_col0\" class=\"data row161 col0\" >7</td>\n",
              "            </tr>\n",
              "            <tr>\n",
              "                        <th id=\"T_59e45280_6ddb_11ea_b6ea_0242ac1c0002level0_row162\" class=\"row_heading level0 row162\" >Faroe Islands</th>\n",
              "                        <td id=\"T_59e45280_6ddb_11ea_b6ea_0242ac1c0002row162_col0\" class=\"data row162 col0\" >7</td>\n",
              "            </tr>\n",
              "            <tr>\n",
              "                        <th id=\"T_59e45280_6ddb_11ea_b6ea_0242ac1c0002level0_row163\" class=\"row_heading level0 row163\" >Liberia</th>\n",
              "                        <td id=\"T_59e45280_6ddb_11ea_b6ea_0242ac1c0002row163_col0\" class=\"data row163 col0\" >7</td>\n",
              "            </tr>\n",
              "            <tr>\n",
              "                        <th id=\"T_59e45280_6ddb_11ea_b6ea_0242ac1c0002level0_row164\" class=\"row_heading level0 row164\" >Aruba</th>\n",
              "                        <td id=\"T_59e45280_6ddb_11ea_b6ea_0242ac1c0002row164_col0\" class=\"data row164 col0\" >7</td>\n",
              "            </tr>\n",
              "            <tr>\n",
              "                        <th id=\"T_59e45280_6ddb_11ea_b6ea_0242ac1c0002level0_row165\" class=\"row_heading level0 row165\" >Puerto Rico</th>\n",
              "                        <td id=\"T_59e45280_6ddb_11ea_b6ea_0242ac1c0002row165_col0\" class=\"data row165 col0\" >7</td>\n",
              "            </tr>\n",
              "            <tr>\n",
              "                        <th id=\"T_59e45280_6ddb_11ea_b6ea_0242ac1c0002level0_row166\" class=\"row_heading level0 row166\" >Benin</th>\n",
              "                        <td id=\"T_59e45280_6ddb_11ea_b6ea_0242ac1c0002row166_col0\" class=\"data row166 col0\" >7</td>\n",
              "            </tr>\n",
              "            <tr>\n",
              "                        <th id=\"T_59e45280_6ddb_11ea_b6ea_0242ac1c0002level0_row167\" class=\"row_heading level0 row167\" >The Gambia</th>\n",
              "                        <td id=\"T_59e45280_6ddb_11ea_b6ea_0242ac1c0002row167_col0\" class=\"data row167 col0\" >6</td>\n",
              "            </tr>\n",
              "            <tr>\n",
              "                        <th id=\"T_59e45280_6ddb_11ea_b6ea_0242ac1c0002level0_row168\" class=\"row_heading level0 row168\" >Barbados</th>\n",
              "                        <td id=\"T_59e45280_6ddb_11ea_b6ea_0242ac1c0002row168_col0\" class=\"data row168 col0\" >6</td>\n",
              "            </tr>\n",
              "            <tr>\n",
              "                        <th id=\"T_59e45280_6ddb_11ea_b6ea_0242ac1c0002level0_row169\" class=\"row_heading level0 row169\" >Montenegro</th>\n",
              "                        <td id=\"T_59e45280_6ddb_11ea_b6ea_0242ac1c0002row169_col0\" class=\"data row169 col0\" >6</td>\n",
              "            </tr>\n",
              "            <tr>\n",
              "                        <th id=\"T_59e45280_6ddb_11ea_b6ea_0242ac1c0002level0_row170\" class=\"row_heading level0 row170\" >Zambia</th>\n",
              "                        <td id=\"T_59e45280_6ddb_11ea_b6ea_0242ac1c0002row170_col0\" class=\"data row170 col0\" >5</td>\n",
              "            </tr>\n",
              "            <tr>\n",
              "                        <th id=\"T_59e45280_6ddb_11ea_b6ea_0242ac1c0002level0_row171\" class=\"row_heading level0 row171\" >Mauritius</th>\n",
              "                        <td id=\"T_59e45280_6ddb_11ea_b6ea_0242ac1c0002row171_col0\" class=\"data row171 col0\" >5</td>\n",
              "            </tr>\n",
              "            <tr>\n",
              "                        <th id=\"T_59e45280_6ddb_11ea_b6ea_0242ac1c0002level0_row172\" class=\"row_heading level0 row172\" >Djibouti</th>\n",
              "                        <td id=\"T_59e45280_6ddb_11ea_b6ea_0242ac1c0002row172_col0\" class=\"data row172 col0\" >5</td>\n",
              "            </tr>\n",
              "            <tr>\n",
              "                        <th id=\"T_59e45280_6ddb_11ea_b6ea_0242ac1c0002level0_row173\" class=\"row_heading level0 row173\" >Palestine</th>\n",
              "                        <td id=\"T_59e45280_6ddb_11ea_b6ea_0242ac1c0002row173_col0\" class=\"data row173 col0\" >5</td>\n",
              "            </tr>\n",
              "            <tr>\n",
              "                        <th id=\"T_59e45280_6ddb_11ea_b6ea_0242ac1c0002level0_row174\" class=\"row_heading level0 row174\" >Kyrgyzstan</th>\n",
              "                        <td id=\"T_59e45280_6ddb_11ea_b6ea_0242ac1c0002row174_col0\" class=\"data row174 col0\" >5</td>\n",
              "            </tr>\n",
              "            <tr>\n",
              "                        <th id=\"T_59e45280_6ddb_11ea_b6ea_0242ac1c0002level0_row175\" class=\"row_heading level0 row175\" >Gambia, The</th>\n",
              "                        <td id=\"T_59e45280_6ddb_11ea_b6ea_0242ac1c0002row175_col0\" class=\"data row175 col0\" >5</td>\n",
              "            </tr>\n",
              "            <tr>\n",
              "                        <th id=\"T_59e45280_6ddb_11ea_b6ea_0242ac1c0002level0_row176\" class=\"row_heading level0 row176\" >Bahamas, The</th>\n",
              "                        <td id=\"T_59e45280_6ddb_11ea_b6ea_0242ac1c0002row176_col0\" class=\"data row176 col0\" >4</td>\n",
              "            </tr>\n",
              "            <tr>\n",
              "                        <th id=\"T_59e45280_6ddb_11ea_b6ea_0242ac1c0002level0_row177\" class=\"row_heading level0 row177\" >El Salvador</th>\n",
              "                        <td id=\"T_59e45280_6ddb_11ea_b6ea_0242ac1c0002row177_col0\" class=\"data row177 col0\" >4</td>\n",
              "            </tr>\n",
              "            <tr>\n",
              "                        <th id=\"T_59e45280_6ddb_11ea_b6ea_0242ac1c0002level0_row178\" class=\"row_heading level0 row178\" >Fiji</th>\n",
              "                        <td id=\"T_59e45280_6ddb_11ea_b6ea_0242ac1c0002row178_col0\" class=\"data row178 col0\" >4</td>\n",
              "            </tr>\n",
              "            <tr>\n",
              "                        <th id=\"T_59e45280_6ddb_11ea_b6ea_0242ac1c0002level0_row179\" class=\"row_heading level0 row179\" >Nicaragua</th>\n",
              "                        <td id=\"T_59e45280_6ddb_11ea_b6ea_0242ac1c0002row179_col0\" class=\"data row179 col0\" >4</td>\n",
              "            </tr>\n",
              "            <tr>\n",
              "                        <th id=\"T_59e45280_6ddb_11ea_b6ea_0242ac1c0002level0_row180\" class=\"row_heading level0 row180\" >Vatican City</th>\n",
              "                        <td id=\"T_59e45280_6ddb_11ea_b6ea_0242ac1c0002row180_col0\" class=\"data row180 col0\" >4</td>\n",
              "            </tr>\n",
              "            <tr>\n",
              "                        <th id=\"T_59e45280_6ddb_11ea_b6ea_0242ac1c0002level0_row181\" class=\"row_heading level0 row181\" >Chad</th>\n",
              "                        <td id=\"T_59e45280_6ddb_11ea_b6ea_0242ac1c0002row181_col0\" class=\"data row181 col0\" >4</td>\n",
              "            </tr>\n",
              "            <tr>\n",
              "                        <th id=\"T_59e45280_6ddb_11ea_b6ea_0242ac1c0002level0_row182\" class=\"row_heading level0 row182\" >Madagascar</th>\n",
              "                        <td id=\"T_59e45280_6ddb_11ea_b6ea_0242ac1c0002row182_col0\" class=\"data row182 col0\" >3</td>\n",
              "            </tr>\n",
              "            <tr>\n",
              "                        <th id=\"T_59e45280_6ddb_11ea_b6ea_0242ac1c0002level0_row183\" class=\"row_heading level0 row183\" >Haiti</th>\n",
              "                        <td id=\"T_59e45280_6ddb_11ea_b6ea_0242ac1c0002row183_col0\" class=\"data row183 col0\" >3</td>\n",
              "            </tr>\n",
              "            <tr>\n",
              "                        <th id=\"T_59e45280_6ddb_11ea_b6ea_0242ac1c0002level0_row184\" class=\"row_heading level0 row184\" >Cayman Islands</th>\n",
              "                        <td id=\"T_59e45280_6ddb_11ea_b6ea_0242ac1c0002row184_col0\" class=\"data row184 col0\" >3</td>\n",
              "            </tr>\n",
              "            <tr>\n",
              "                        <th id=\"T_59e45280_6ddb_11ea_b6ea_0242ac1c0002level0_row185\" class=\"row_heading level0 row185\" >Niger</th>\n",
              "                        <td id=\"T_59e45280_6ddb_11ea_b6ea_0242ac1c0002row185_col0\" class=\"data row185 col0\" >3</td>\n",
              "            </tr>\n",
              "            <tr>\n",
              "                        <th id=\"T_59e45280_6ddb_11ea_b6ea_0242ac1c0002level0_row186\" class=\"row_heading level0 row186\" >Cabo Verde</th>\n",
              "                        <td id=\"T_59e45280_6ddb_11ea_b6ea_0242ac1c0002row186_col0\" class=\"data row186 col0\" >3</td>\n",
              "            </tr>\n",
              "            <tr>\n",
              "                        <th id=\"T_59e45280_6ddb_11ea_b6ea_0242ac1c0002level0_row187\" class=\"row_heading level0 row187\" >Angola</th>\n",
              "                        <td id=\"T_59e45280_6ddb_11ea_b6ea_0242ac1c0002row187_col0\" class=\"data row187 col0\" >3</td>\n",
              "            </tr>\n",
              "            <tr>\n",
              "                        <th id=\"T_59e45280_6ddb_11ea_b6ea_0242ac1c0002level0_row188\" class=\"row_heading level0 row188\" >Papua New Guinea</th>\n",
              "                        <td id=\"T_59e45280_6ddb_11ea_b6ea_0242ac1c0002row188_col0\" class=\"data row188 col0\" >3</td>\n",
              "            </tr>\n",
              "            <tr>\n",
              "                        <th id=\"T_59e45280_6ddb_11ea_b6ea_0242ac1c0002level0_row189\" class=\"row_heading level0 row189\" >Zimbabwe</th>\n",
              "                        <td id=\"T_59e45280_6ddb_11ea_b6ea_0242ac1c0002row189_col0\" class=\"data row189 col0\" >3</td>\n",
              "            </tr>\n",
              "            <tr>\n",
              "                        <th id=\"T_59e45280_6ddb_11ea_b6ea_0242ac1c0002level0_row190\" class=\"row_heading level0 row190\" >Eritrea</th>\n",
              "                        <td id=\"T_59e45280_6ddb_11ea_b6ea_0242ac1c0002row190_col0\" class=\"data row190 col0\" >2</td>\n",
              "            </tr>\n",
              "            <tr>\n",
              "                        <th id=\"T_59e45280_6ddb_11ea_b6ea_0242ac1c0002level0_row191\" class=\"row_heading level0 row191\" >Uganda</th>\n",
              "                        <td id=\"T_59e45280_6ddb_11ea_b6ea_0242ac1c0002row191_col0\" class=\"data row191 col0\" >2</td>\n",
              "            </tr>\n",
              "            <tr>\n",
              "                        <th id=\"T_59e45280_6ddb_11ea_b6ea_0242ac1c0002level0_row192\" class=\"row_heading level0 row192\" >Cape Verde</th>\n",
              "                        <td id=\"T_59e45280_6ddb_11ea_b6ea_0242ac1c0002row192_col0\" class=\"data row192 col0\" >2</td>\n",
              "            </tr>\n",
              "            <tr>\n",
              "                        <th id=\"T_59e45280_6ddb_11ea_b6ea_0242ac1c0002level0_row193\" class=\"row_heading level0 row193\" >East Timor</th>\n",
              "                        <td id=\"T_59e45280_6ddb_11ea_b6ea_0242ac1c0002row193_col0\" class=\"data row193 col0\" >2</td>\n",
              "            </tr>\n",
              "            <tr>\n",
              "                        <th id=\"T_59e45280_6ddb_11ea_b6ea_0242ac1c0002level0_row194\" class=\"row_heading level0 row194\" >Curacao</th>\n",
              "                        <td id=\"T_59e45280_6ddb_11ea_b6ea_0242ac1c0002row194_col0\" class=\"data row194 col0\" >2</td>\n",
              "            </tr>\n",
              "            <tr>\n",
              "                        <th id=\"T_59e45280_6ddb_11ea_b6ea_0242ac1c0002level0_row195\" class=\"row_heading level0 row195\" >Saint Martin</th>\n",
              "                        <td id=\"T_59e45280_6ddb_11ea_b6ea_0242ac1c0002row195_col0\" class=\"data row195 col0\" >1</td>\n",
              "            </tr>\n",
              "            <tr>\n",
              "                        <th id=\"T_59e45280_6ddb_11ea_b6ea_0242ac1c0002level0_row196\" class=\"row_heading level0 row196\" >North Ireland</th>\n",
              "                        <td id=\"T_59e45280_6ddb_11ea_b6ea_0242ac1c0002row196_col0\" class=\"data row196 col0\" >1</td>\n",
              "            </tr>\n",
              "            <tr>\n",
              "                        <th id=\"T_59e45280_6ddb_11ea_b6ea_0242ac1c0002level0_row197\" class=\"row_heading level0 row197\" >Macao SAR</th>\n",
              "                        <td id=\"T_59e45280_6ddb_11ea_b6ea_0242ac1c0002row197_col0\" class=\"data row197 col0\" >1</td>\n",
              "            </tr>\n",
              "            <tr>\n",
              "                        <th id=\"T_59e45280_6ddb_11ea_b6ea_0242ac1c0002level0_row198\" class=\"row_heading level0 row198\" >Taipei and environs</th>\n",
              "                        <td id=\"T_59e45280_6ddb_11ea_b6ea_0242ac1c0002row198_col0\" class=\"data row198 col0\" >1</td>\n",
              "            </tr>\n",
              "            <tr>\n",
              "                        <th id=\"T_59e45280_6ddb_11ea_b6ea_0242ac1c0002level0_row199\" class=\"row_heading level0 row199\" >Republic of Moldova</th>\n",
              "                        <td id=\"T_59e45280_6ddb_11ea_b6ea_0242ac1c0002row199_col0\" class=\"data row199 col0\" >1</td>\n",
              "            </tr>\n",
              "            <tr>\n",
              "                        <th id=\"T_59e45280_6ddb_11ea_b6ea_0242ac1c0002level0_row200\" class=\"row_heading level0 row200\" >Syria</th>\n",
              "                        <td id=\"T_59e45280_6ddb_11ea_b6ea_0242ac1c0002row200_col0\" class=\"data row200 col0\" >1</td>\n",
              "            </tr>\n",
              "            <tr>\n",
              "                        <th id=\"T_59e45280_6ddb_11ea_b6ea_0242ac1c0002level0_row201\" class=\"row_heading level0 row201\" >Timor-Leste</th>\n",
              "                        <td id=\"T_59e45280_6ddb_11ea_b6ea_0242ac1c0002row201_col0\" class=\"data row201 col0\" >1</td>\n",
              "            </tr>\n",
              "            <tr>\n",
              "                        <th id=\"T_59e45280_6ddb_11ea_b6ea_0242ac1c0002level0_row202\" class=\"row_heading level0 row202\" >Viet Nam</th>\n",
              "                        <td id=\"T_59e45280_6ddb_11ea_b6ea_0242ac1c0002row202_col0\" class=\"data row202 col0\" >1</td>\n",
              "            </tr>\n",
              "            <tr>\n",
              "                        <th id=\"T_59e45280_6ddb_11ea_b6ea_0242ac1c0002level0_row203\" class=\"row_heading level0 row203\" >Russian Federation</th>\n",
              "                        <td id=\"T_59e45280_6ddb_11ea_b6ea_0242ac1c0002row203_col0\" class=\"data row203 col0\" >1</td>\n",
              "            </tr>\n",
              "            <tr>\n",
              "                        <th id=\"T_59e45280_6ddb_11ea_b6ea_0242ac1c0002level0_row204\" class=\"row_heading level0 row204\" >St. Martin</th>\n",
              "                        <td id=\"T_59e45280_6ddb_11ea_b6ea_0242ac1c0002row204_col0\" class=\"data row204 col0\" >1</td>\n",
              "            </tr>\n",
              "            <tr>\n",
              "                        <th id=\"T_59e45280_6ddb_11ea_b6ea_0242ac1c0002level0_row205\" class=\"row_heading level0 row205\" >Dominica</th>\n",
              "                        <td id=\"T_59e45280_6ddb_11ea_b6ea_0242ac1c0002row205_col0\" class=\"data row205 col0\" >1</td>\n",
              "            </tr>\n",
              "            <tr>\n",
              "                        <th id=\"T_59e45280_6ddb_11ea_b6ea_0242ac1c0002level0_row206\" class=\"row_heading level0 row206\" >Channel Islands</th>\n",
              "                        <td id=\"T_59e45280_6ddb_11ea_b6ea_0242ac1c0002row206_col0\" class=\"data row206 col0\" >1</td>\n",
              "            </tr>\n",
              "            <tr>\n",
              "                        <th id=\"T_59e45280_6ddb_11ea_b6ea_0242ac1c0002level0_row207\" class=\"row_heading level0 row207\" >Iran (Islamic Republic of)</th>\n",
              "                        <td id=\"T_59e45280_6ddb_11ea_b6ea_0242ac1c0002row207_col0\" class=\"data row207 col0\" >1</td>\n",
              "            </tr>\n",
              "            <tr>\n",
              "                        <th id=\"T_59e45280_6ddb_11ea_b6ea_0242ac1c0002level0_row208\" class=\"row_heading level0 row208\" >Ivory Coast</th>\n",
              "                        <td id=\"T_59e45280_6ddb_11ea_b6ea_0242ac1c0002row208_col0\" class=\"data row208 col0\" >1</td>\n",
              "            </tr>\n",
              "            <tr>\n",
              "                        <th id=\"T_59e45280_6ddb_11ea_b6ea_0242ac1c0002level0_row209\" class=\"row_heading level0 row209\" >Republic of Korea</th>\n",
              "                        <td id=\"T_59e45280_6ddb_11ea_b6ea_0242ac1c0002row209_col0\" class=\"data row209 col0\" >1</td>\n",
              "            </tr>\n",
              "            <tr>\n",
              "                        <th id=\"T_59e45280_6ddb_11ea_b6ea_0242ac1c0002level0_row210\" class=\"row_heading level0 row210\" > Azerbaijan</th>\n",
              "                        <td id=\"T_59e45280_6ddb_11ea_b6ea_0242ac1c0002row210_col0\" class=\"data row210 col0\" >1</td>\n",
              "            </tr>\n",
              "            <tr>\n",
              "                        <th id=\"T_59e45280_6ddb_11ea_b6ea_0242ac1c0002level0_row211\" class=\"row_heading level0 row211\" >Grenada</th>\n",
              "                        <td id=\"T_59e45280_6ddb_11ea_b6ea_0242ac1c0002row211_col0\" class=\"data row211 col0\" >1</td>\n",
              "            </tr>\n",
              "            <tr>\n",
              "                        <th id=\"T_59e45280_6ddb_11ea_b6ea_0242ac1c0002level0_row212\" class=\"row_heading level0 row212\" >Hong Kong SAR</th>\n",
              "                        <td id=\"T_59e45280_6ddb_11ea_b6ea_0242ac1c0002row212_col0\" class=\"data row212 col0\" >1</td>\n",
              "            </tr>\n",
              "            <tr>\n",
              "                        <th id=\"T_59e45280_6ddb_11ea_b6ea_0242ac1c0002level0_row213\" class=\"row_heading level0 row213\" >Republic of Ireland</th>\n",
              "                        <td id=\"T_59e45280_6ddb_11ea_b6ea_0242ac1c0002row213_col0\" class=\"data row213 col0\" >1</td>\n",
              "            </tr>\n",
              "            <tr>\n",
              "                        <th id=\"T_59e45280_6ddb_11ea_b6ea_0242ac1c0002level0_row214\" class=\"row_heading level0 row214\" >Mozambique</th>\n",
              "                        <td id=\"T_59e45280_6ddb_11ea_b6ea_0242ac1c0002row214_col0\" class=\"data row214 col0\" >1</td>\n",
              "            </tr>\n",
              "    </tbody></table>"
            ],
            "text/plain": [
              "<pandas.io.formats.style.Styler at 0x7f1225be92b0>"
            ]
          },
          "metadata": {
            "tags": []
          },
          "execution_count": 74
        }
      ]
    },
    {
      "cell_type": "code",
      "metadata": {
        "id": "IfWjngUZ0FT3",
        "colab_type": "code",
        "outputId": "f5189e40-906b-4447-9e5f-c1fea7aeb61a",
        "colab": {
          "base_uri": "https://localhost:8080/",
          "height": 102
        }
      },
      "source": [
        "corona_chan['Country/Region'].replace({'Mainland China':'China'},inplace=True)\n",
        "last_updated['Country/Region'].replace({'Mainland China':'China'},inplace=True)"
      ],
      "execution_count": 75,
      "outputs": [
        {
          "output_type": "stream",
          "text": [
            "/usr/local/lib/python3.6/dist-packages/pandas/core/generic.py:6786: SettingWithCopyWarning: \n",
            "A value is trying to be set on a copy of a slice from a DataFrame\n",
            "\n",
            "See the caveats in the documentation: http://pandas.pydata.org/pandas-docs/stable/user_guide/indexing.html#returning-a-view-versus-a-copy\n",
            "  self._update_inplace(new_data)\n"
          ],
          "name": "stderr"
        }
      ]
    },
    {
      "cell_type": "code",
      "metadata": {
        "id": "FxcS-H6v0FT6",
        "colab_type": "code",
        "colab": {}
      },
      "source": [
        "zeroConfirmed = corona_chan[corona_chan['Confirmed'] == 0]\n",
        "corona_chan = corona_chan[corona_chan['Confirmed'] != 0]"
      ],
      "execution_count": 0,
      "outputs": []
    },
    {
      "cell_type": "code",
      "metadata": {
        "id": "DFrXtRe00FT9",
        "colab_type": "code",
        "outputId": "b200e05f-8e8f-4f22-8f16-7beab176f952",
        "colab": {
          "base_uri": "https://localhost:8080/",
          "height": 204
        }
      },
      "source": [
        "corona_chan.head()"
      ],
      "execution_count": 77,
      "outputs": [
        {
          "output_type": "execute_result",
          "data": {
            "text/html": [
              "<div>\n",
              "<style scoped>\n",
              "    .dataframe tbody tr th:only-of-type {\n",
              "        vertical-align: middle;\n",
              "    }\n",
              "\n",
              "    .dataframe tbody tr th {\n",
              "        vertical-align: top;\n",
              "    }\n",
              "\n",
              "    .dataframe thead th {\n",
              "        text-align: right;\n",
              "    }\n",
              "</style>\n",
              "<table border=\"1\" class=\"dataframe\">\n",
              "  <thead>\n",
              "    <tr style=\"text-align: right;\">\n",
              "      <th></th>\n",
              "      <th>Province/State</th>\n",
              "      <th>Country/Region</th>\n",
              "      <th>Last Update</th>\n",
              "      <th>Confirmed</th>\n",
              "      <th>Deaths</th>\n",
              "      <th>Recovered</th>\n",
              "      <th>Latitude</th>\n",
              "      <th>Longitude</th>\n",
              "      <th>Date</th>\n",
              "      <th>Day</th>\n",
              "      <th>Month</th>\n",
              "      <th>Week</th>\n",
              "      <th>WeekDay</th>\n",
              "    </tr>\n",
              "  </thead>\n",
              "  <tbody>\n",
              "    <tr>\n",
              "      <th>0</th>\n",
              "      <td>Hubei</td>\n",
              "      <td>China</td>\n",
              "      <td>2020-03-13 11:09:03</td>\n",
              "      <td>67786.0</td>\n",
              "      <td>3062.0</td>\n",
              "      <td>51553.0</td>\n",
              "      <td>30.9756</td>\n",
              "      <td>112.2707</td>\n",
              "      <td>2020-03-13 11:09:03</td>\n",
              "      <td>13</td>\n",
              "      <td>3</td>\n",
              "      <td>11</td>\n",
              "      <td>4</td>\n",
              "    </tr>\n",
              "    <tr>\n",
              "      <th>1</th>\n",
              "      <td>Guangdong</td>\n",
              "      <td>China</td>\n",
              "      <td>2020-03-13 11:09:03</td>\n",
              "      <td>1356.0</td>\n",
              "      <td>8.0</td>\n",
              "      <td>1296.0</td>\n",
              "      <td>23.3417</td>\n",
              "      <td>113.4244</td>\n",
              "      <td>2020-03-13 11:09:03</td>\n",
              "      <td>13</td>\n",
              "      <td>3</td>\n",
              "      <td>11</td>\n",
              "      <td>4</td>\n",
              "    </tr>\n",
              "    <tr>\n",
              "      <th>2</th>\n",
              "      <td>Henan</td>\n",
              "      <td>China</td>\n",
              "      <td>2020-03-11 08:13:09</td>\n",
              "      <td>1273.0</td>\n",
              "      <td>22.0</td>\n",
              "      <td>1249.0</td>\n",
              "      <td>33.8820</td>\n",
              "      <td>113.6140</td>\n",
              "      <td>2020-03-11 08:13:09</td>\n",
              "      <td>11</td>\n",
              "      <td>3</td>\n",
              "      <td>11</td>\n",
              "      <td>2</td>\n",
              "    </tr>\n",
              "    <tr>\n",
              "      <th>3</th>\n",
              "      <td>Zhejiang</td>\n",
              "      <td>China</td>\n",
              "      <td>2020-03-12 01:33:02</td>\n",
              "      <td>1215.0</td>\n",
              "      <td>1.0</td>\n",
              "      <td>1197.0</td>\n",
              "      <td>29.1832</td>\n",
              "      <td>120.0934</td>\n",
              "      <td>2020-03-12 01:33:02</td>\n",
              "      <td>12</td>\n",
              "      <td>3</td>\n",
              "      <td>11</td>\n",
              "      <td>3</td>\n",
              "    </tr>\n",
              "    <tr>\n",
              "      <th>4</th>\n",
              "      <td>Hunan</td>\n",
              "      <td>China</td>\n",
              "      <td>2020-03-13 11:09:03</td>\n",
              "      <td>1018.0</td>\n",
              "      <td>4.0</td>\n",
              "      <td>1005.0</td>\n",
              "      <td>27.6104</td>\n",
              "      <td>111.7088</td>\n",
              "      <td>2020-03-13 11:09:03</td>\n",
              "      <td>13</td>\n",
              "      <td>3</td>\n",
              "      <td>11</td>\n",
              "      <td>4</td>\n",
              "    </tr>\n",
              "  </tbody>\n",
              "</table>\n",
              "</div>"
            ],
            "text/plain": [
              "  Province/State Country/Region         Last Update  ...  Month  Week  WeekDay\n",
              "0          Hubei          China 2020-03-13 11:09:03  ...      3    11        4\n",
              "1      Guangdong          China 2020-03-13 11:09:03  ...      3    11        4\n",
              "2          Henan          China 2020-03-11 08:13:09  ...      3    11        2\n",
              "3       Zhejiang          China 2020-03-12 01:33:02  ...      3    11        3\n",
              "4          Hunan          China 2020-03-13 11:09:03  ...      3    11        4\n",
              "\n",
              "[5 rows x 13 columns]"
            ]
          },
          "metadata": {
            "tags": []
          },
          "execution_count": 77
        }
      ]
    },
    {
      "cell_type": "code",
      "metadata": {
        "id": "KBoCStsH0FUA",
        "colab_type": "code",
        "outputId": "b57693e4-ab9c-4e74-fa2b-6b3eb21df423",
        "colab": {
          "base_uri": "https://localhost:8080/",
          "height": 34
        }
      },
      "source": [
        "corona_chan[corona_chan['Date'] != corona_chan['Last Update']]['Country/Region'].value_counts()"
      ],
      "execution_count": 78,
      "outputs": [
        {
          "output_type": "execute_result",
          "data": {
            "text/plain": [
              "Series([], Name: Country/Region, dtype: int64)"
            ]
          },
          "metadata": {
            "tags": []
          },
          "execution_count": 78
        }
      ]
    },
    {
      "cell_type": "code",
      "metadata": {
        "id": "XnHy-6mu0FUF",
        "colab_type": "code",
        "outputId": "e65031f0-41b3-4dc9-efb9-87f0356e53ca",
        "colab": {
          "base_uri": "https://localhost:8080/",
          "height": 34
        }
      },
      "source": [
        "corona_chan['Last Update'].max()"
      ],
      "execution_count": 79,
      "outputs": [
        {
          "output_type": "execute_result",
          "data": {
            "text/plain": [
              "Timestamp('2020-03-22 23:43:03')"
            ]
          },
          "metadata": {
            "tags": []
          },
          "execution_count": 79
        }
      ]
    },
    {
      "cell_type": "code",
      "metadata": {
        "id": "tUA5acC20FUJ",
        "colab_type": "code",
        "outputId": "cfbb1d14-b22c-412e-fd0a-c0bff8a25492",
        "colab": {
          "base_uri": "https://localhost:8080/",
          "height": 255
        }
      },
      "source": [
        "# missing values\n",
        "corona_chan.isnull().sum()"
      ],
      "execution_count": 80,
      "outputs": [
        {
          "output_type": "execute_result",
          "data": {
            "text/plain": [
              "Province/State    3383\n",
              "Country/Region       0\n",
              "Last Update          0\n",
              "Confirmed           19\n",
              "Deaths             441\n",
              "Recovered          388\n",
              "Latitude          2798\n",
              "Longitude         2798\n",
              "Date                 0\n",
              "Day                  0\n",
              "Month                0\n",
              "Week                 0\n",
              "WeekDay              0\n",
              "dtype: int64"
            ]
          },
          "metadata": {
            "tags": []
          },
          "execution_count": 80
        }
      ]
    },
    {
      "cell_type": "code",
      "metadata": {
        "id": "wdF7gN0O0FUM",
        "colab_type": "code",
        "outputId": "9ebd6fad-0aff-4ac3-bbae-e1ec114449eb",
        "colab": {
          "base_uri": "https://localhost:8080/",
          "height": 68
        }
      },
      "source": [
        "confirmedCase = int(last_updated['Confirmed'].sum())\n",
        "deathCase = int(last_updated['Deaths'].sum())\n",
        "recoveredCase = int(last_updated['Recovered'].sum())\n",
        "print(\"Confirmed cases globally \" + str(confirmedCase))\n",
        "print(\"Recovered case globally \" + str(recoveredCase))\n",
        "print(\"Death case globally \" + str(deathCase))"
      ],
      "execution_count": 81,
      "outputs": [
        {
          "output_type": "stream",
          "text": [
            "Confirmed cases globally 329053\n",
            "Recovered case globally 92669\n",
            "Death case globally 14554\n"
          ],
          "name": "stdout"
        }
      ]
    },
    {
      "cell_type": "code",
      "metadata": {
        "id": "guwDEdw00FUP",
        "colab_type": "code",
        "colab": {}
      },
      "source": [
        "# Seperate China from others\n",
        "others = corona_chan[corona_chan['Country/Region']!='China']\n",
        "last_updated_others = last_updated[last_updated['Country/Region']!='China']\n",
        "china = corona_chan[corona_chan['Country/Region']=='China']\n",
        "last_updated_china = last_updated[last_updated['Country/Region']=='China']"
      ],
      "execution_count": 0,
      "outputs": []
    },
    {
      "cell_type": "code",
      "metadata": {
        "id": "fb1Mzxqc4-HO",
        "colab_type": "code",
        "colab": {
          "base_uri": "https://localhost:8080/",
          "height": 204
        },
        "outputId": "0252d31d-ab46-4bad-96f5-9074ad5eaece"
      },
      "source": [
        "last_updated_others.head()"
      ],
      "execution_count": 83,
      "outputs": [
        {
          "output_type": "execute_result",
          "data": {
            "text/html": [
              "<div>\n",
              "<style scoped>\n",
              "    .dataframe tbody tr th:only-of-type {\n",
              "        vertical-align: middle;\n",
              "    }\n",
              "\n",
              "    .dataframe tbody tr th {\n",
              "        vertical-align: top;\n",
              "    }\n",
              "\n",
              "    .dataframe thead th {\n",
              "        text-align: right;\n",
              "    }\n",
              "</style>\n",
              "<table border=\"1\" class=\"dataframe\">\n",
              "  <thead>\n",
              "    <tr style=\"text-align: right;\">\n",
              "      <th></th>\n",
              "      <th>Province/State</th>\n",
              "      <th>Country/Region</th>\n",
              "      <th>Last Update</th>\n",
              "      <th>Confirmed</th>\n",
              "      <th>Deaths</th>\n",
              "      <th>Recovered</th>\n",
              "      <th>Latitude</th>\n",
              "      <th>Longitude</th>\n",
              "      <th>Date</th>\n",
              "      <th>Day</th>\n",
              "      <th>Month</th>\n",
              "      <th>Week</th>\n",
              "      <th>WeekDay</th>\n",
              "    </tr>\n",
              "  </thead>\n",
              "  <tbody>\n",
              "    <tr>\n",
              "      <th>6427</th>\n",
              "      <td>NaN</td>\n",
              "      <td>Italy</td>\n",
              "      <td>2020-03-22 18:13:20</td>\n",
              "      <td>59138.0</td>\n",
              "      <td>5476.0</td>\n",
              "      <td>7024.0</td>\n",
              "      <td>41.8719</td>\n",
              "      <td>12.5674</td>\n",
              "      <td>2020-03-22 18:13:20</td>\n",
              "      <td>22</td>\n",
              "      <td>3</td>\n",
              "      <td>12</td>\n",
              "      <td>6</td>\n",
              "    </tr>\n",
              "    <tr>\n",
              "      <th>6428</th>\n",
              "      <td>NaN</td>\n",
              "      <td>Spain</td>\n",
              "      <td>2020-03-22 23:13:18</td>\n",
              "      <td>28768.0</td>\n",
              "      <td>1772.0</td>\n",
              "      <td>2575.0</td>\n",
              "      <td>40.4637</td>\n",
              "      <td>-3.7492</td>\n",
              "      <td>2020-03-22 23:13:18</td>\n",
              "      <td>22</td>\n",
              "      <td>3</td>\n",
              "      <td>12</td>\n",
              "      <td>6</td>\n",
              "    </tr>\n",
              "    <tr>\n",
              "      <th>6429</th>\n",
              "      <td>NaN</td>\n",
              "      <td>Germany</td>\n",
              "      <td>2020-03-22 23:43:02</td>\n",
              "      <td>24873.0</td>\n",
              "      <td>94.0</td>\n",
              "      <td>266.0</td>\n",
              "      <td>51.1657</td>\n",
              "      <td>10.4515</td>\n",
              "      <td>2020-03-22 23:43:02</td>\n",
              "      <td>22</td>\n",
              "      <td>3</td>\n",
              "      <td>12</td>\n",
              "      <td>6</td>\n",
              "    </tr>\n",
              "    <tr>\n",
              "      <th>6430</th>\n",
              "      <td>NaN</td>\n",
              "      <td>Iran</td>\n",
              "      <td>2020-03-22 14:13:06</td>\n",
              "      <td>21638.0</td>\n",
              "      <td>1685.0</td>\n",
              "      <td>7931.0</td>\n",
              "      <td>32.4279</td>\n",
              "      <td>53.6880</td>\n",
              "      <td>2020-03-22 14:13:06</td>\n",
              "      <td>22</td>\n",
              "      <td>3</td>\n",
              "      <td>12</td>\n",
              "      <td>6</td>\n",
              "    </tr>\n",
              "    <tr>\n",
              "      <th>6431</th>\n",
              "      <td>France</td>\n",
              "      <td>France</td>\n",
              "      <td>2020-03-22 23:43:02</td>\n",
              "      <td>16018.0</td>\n",
              "      <td>674.0</td>\n",
              "      <td>2200.0</td>\n",
              "      <td>46.2276</td>\n",
              "      <td>2.2137</td>\n",
              "      <td>2020-03-22 23:43:02</td>\n",
              "      <td>22</td>\n",
              "      <td>3</td>\n",
              "      <td>12</td>\n",
              "      <td>6</td>\n",
              "    </tr>\n",
              "  </tbody>\n",
              "</table>\n",
              "</div>"
            ],
            "text/plain": [
              "     Province/State Country/Region         Last Update  ...  Month  Week  WeekDay\n",
              "6427            NaN          Italy 2020-03-22 18:13:20  ...      3    12        6\n",
              "6428            NaN          Spain 2020-03-22 23:13:18  ...      3    12        6\n",
              "6429            NaN        Germany 2020-03-22 23:43:02  ...      3    12        6\n",
              "6430            NaN           Iran 2020-03-22 14:13:06  ...      3    12        6\n",
              "6431         France         France 2020-03-22 23:43:02  ...      3    12        6\n",
              "\n",
              "[5 rows x 13 columns]"
            ]
          },
          "metadata": {
            "tags": []
          },
          "execution_count": 83
        }
      ]
    },
    {
      "cell_type": "code",
      "metadata": {
        "id": "NFcn3b0T0FUU",
        "colab_type": "code",
        "outputId": "657411ff-32f8-40c4-fdc1-cdde544945ad",
        "colab": {
          "base_uri": "https://localhost:8080/",
          "height": 441
        }
      },
      "source": [
        "plt.figure(figsize=(15,6))\n",
        "plt.title('Number of Province/State were affected in Each Country other than China')\n",
        "plt.xticks(rotation=90)\n",
        "prv_lst = last_updated_others.groupby(['Country/Region'])['Province/State'].nunique().sort_values(ascending=False)\n",
        "prv_lst.plot(kind='bar')\n",
        "plt.tight_layout()"
      ],
      "execution_count": 84,
      "outputs": [
        {
          "output_type": "display_data",
          "data": {
            "image/png": "[encoded data removed]",
            "text/plain": [
              "<Figure size 1080x432 with 1 Axes>"
            ]
          },
          "metadata": {
            "tags": []
          }
        }
      ]
    },
    {
      "cell_type": "markdown",
      "metadata": {
        "id": "B5b-WDtc8bbB",
        "colab_type": "text"
      },
      "source": [
        "To be noted: Majority of the countries do not have their Province/State updated"
      ]
    },
    {
      "cell_type": "code",
      "metadata": {
        "id": "dO4TuxvB0FUY",
        "colab_type": "code",
        "outputId": "eecfbb46-d0e6-4c8f-e54f-4004ab617fb1",
        "colab": {
          "base_uri": "https://localhost:8080/",
          "height": 136
        }
      },
      "source": [
        "prv_lst.tail()"
      ],
      "execution_count": 85,
      "outputs": [
        {
          "output_type": "execute_result",
          "data": {
            "text/plain": [
              "Country/Region\n",
              "Panama         0\n",
              "Paraguay       0\n",
              "Peru           0\n",
              "Philippines    0\n",
              "Afghanistan    0\n",
              "Name: Province/State, dtype: int64"
            ]
          },
          "metadata": {
            "tags": []
          },
          "execution_count": 85
        }
      ]
    },
    {
      "cell_type": "code",
      "metadata": {
        "id": "JQDDq9DI0FUd",
        "colab_type": "code",
        "outputId": "bc3689e3-6be5-40eb-ee10-f707cc80a887",
        "colab": {
          "base_uri": "https://localhost:8080/",
          "height": 153
        }
      },
      "source": [
        "top5 = last_updated_others.groupby(['Country/Region']).sum().nlargest(5,['Confirmed'])[displayed_cols]\n",
        "top5\n",
        "print(\"Top 5 Countries were affected most\")\n",
        "print(top5)"
      ],
      "execution_count": 86,
      "outputs": [
        {
          "output_type": "stream",
          "text": [
            "Top 5 Countries were affected most\n",
            "                Confirmed  Deaths  Recovered\n",
            "Country/Region                              \n",
            "Italy             59138.0  5476.0     7024.0\n",
            "US                33193.0   417.0      178.0\n",
            "Spain             28768.0  1772.0     2575.0\n",
            "Germany           24873.0    94.0      266.0\n",
            "Iran              21638.0  1685.0     7931.0\n"
          ],
          "name": "stdout"
        }
      ]
    },
    {
      "cell_type": "code",
      "metadata": {
        "id": "V6s-Zmq-0FUh",
        "colab_type": "code",
        "outputId": "3d68db75-214d-4a3e-ab6e-f5f8cc4b7c30",
        "colab": {
          "base_uri": "https://localhost:8080/",
          "height": 440
        }
      },
      "source": [
        "plt.figure(figsize=(12,6))\n",
        "plt.xticks(rotation=90)\n",
        "plt.title(\"Top most 5 countries were affected by Coronavirus apart from China\")\n",
        "sns.barplot(x=top5.index,y='Confirmed',data=top5)\n",
        "plt.show()"
      ],
      "execution_count": 87,
      "outputs": [
        {
          "output_type": "display_data",
          "data": {
            "image/png": "[encoded data removed]",
            "text/plain": [
              "<Figure size 864x432 with 1 Axes>"
            ]
          },
          "metadata": {
            "tags": []
          }
        }
      ]
    },
    {
      "cell_type": "code",
      "metadata": {
        "id": "DVj_LXe70FUj",
        "colab_type": "code",
        "outputId": "f73b5a10-bdc1-4d47-ca53-7de5510936de",
        "colab": {
          "base_uri": "https://localhost:8080/",
          "height": 441
        }
      },
      "source": [
        "plt.figure(figsize=(15,6))\n",
        "plt.title('Countries which has Confirmed cases')\n",
        "plt.xticks(rotation=90)\n",
        "sns.barplot(x='Country/Region',y='Confirmed',data=last_updated)\n",
        "plt.tight_layout()"
      ],
      "execution_count": 88,
      "outputs": [
        {
          "output_type": "display_data",
          "data": {
            "image/png": "[encoded data removed]",
            "text/plain": [
              "<Figure size 1080x432 with 1 Axes>"
            ]
          },
          "metadata": {
            "tags": []
          }
        }
      ]
    },
    {
      "cell_type": "code",
      "metadata": {
        "id": "NP8UOLfu9rbj",
        "colab_type": "code",
        "outputId": "95860906-fc77-4604-c31e-f6d3a9dd0d3a",
        "colab": {
          "base_uri": "https://localhost:8080/",
          "height": 204
        }
      },
      "source": [
        "last_updated.head()"
      ],
      "execution_count": 89,
      "outputs": [
        {
          "output_type": "execute_result",
          "data": {
            "text/html": [
              "<div>\n",
              "<style scoped>\n",
              "    .dataframe tbody tr th:only-of-type {\n",
              "        vertical-align: middle;\n",
              "    }\n",
              "\n",
              "    .dataframe tbody tr th {\n",
              "        vertical-align: top;\n",
              "    }\n",
              "\n",
              "    .dataframe thead th {\n",
              "        text-align: right;\n",
              "    }\n",
              "</style>\n",
              "<table border=\"1\" class=\"dataframe\">\n",
              "  <thead>\n",
              "    <tr style=\"text-align: right;\">\n",
              "      <th></th>\n",
              "      <th>Province/State</th>\n",
              "      <th>Country/Region</th>\n",
              "      <th>Last Update</th>\n",
              "      <th>Confirmed</th>\n",
              "      <th>Deaths</th>\n",
              "      <th>Recovered</th>\n",
              "      <th>Latitude</th>\n",
              "      <th>Longitude</th>\n",
              "      <th>Date</th>\n",
              "      <th>Day</th>\n",
              "      <th>Month</th>\n",
              "      <th>Week</th>\n",
              "      <th>WeekDay</th>\n",
              "    </tr>\n",
              "  </thead>\n",
              "  <tbody>\n",
              "    <tr>\n",
              "      <th>6426</th>\n",
              "      <td>Hubei</td>\n",
              "      <td>China</td>\n",
              "      <td>2020-03-22 09:43:06</td>\n",
              "      <td>67800.0</td>\n",
              "      <td>3144.0</td>\n",
              "      <td>59433.0</td>\n",
              "      <td>30.9756</td>\n",
              "      <td>112.2707</td>\n",
              "      <td>2020-03-22 09:43:06</td>\n",
              "      <td>22</td>\n",
              "      <td>3</td>\n",
              "      <td>12</td>\n",
              "      <td>6</td>\n",
              "    </tr>\n",
              "    <tr>\n",
              "      <th>6427</th>\n",
              "      <td>NaN</td>\n",
              "      <td>Italy</td>\n",
              "      <td>2020-03-22 18:13:20</td>\n",
              "      <td>59138.0</td>\n",
              "      <td>5476.0</td>\n",
              "      <td>7024.0</td>\n",
              "      <td>41.8719</td>\n",
              "      <td>12.5674</td>\n",
              "      <td>2020-03-22 18:13:20</td>\n",
              "      <td>22</td>\n",
              "      <td>3</td>\n",
              "      <td>12</td>\n",
              "      <td>6</td>\n",
              "    </tr>\n",
              "    <tr>\n",
              "      <th>6428</th>\n",
              "      <td>NaN</td>\n",
              "      <td>Spain</td>\n",
              "      <td>2020-03-22 23:13:18</td>\n",
              "      <td>28768.0</td>\n",
              "      <td>1772.0</td>\n",
              "      <td>2575.0</td>\n",
              "      <td>40.4637</td>\n",
              "      <td>-3.7492</td>\n",
              "      <td>2020-03-22 23:13:18</td>\n",
              "      <td>22</td>\n",
              "      <td>3</td>\n",
              "      <td>12</td>\n",
              "      <td>6</td>\n",
              "    </tr>\n",
              "    <tr>\n",
              "      <th>6429</th>\n",
              "      <td>NaN</td>\n",
              "      <td>Germany</td>\n",
              "      <td>2020-03-22 23:43:02</td>\n",
              "      <td>24873.0</td>\n",
              "      <td>94.0</td>\n",
              "      <td>266.0</td>\n",
              "      <td>51.1657</td>\n",
              "      <td>10.4515</td>\n",
              "      <td>2020-03-22 23:43:02</td>\n",
              "      <td>22</td>\n",
              "      <td>3</td>\n",
              "      <td>12</td>\n",
              "      <td>6</td>\n",
              "    </tr>\n",
              "    <tr>\n",
              "      <th>6430</th>\n",
              "      <td>NaN</td>\n",
              "      <td>Iran</td>\n",
              "      <td>2020-03-22 14:13:06</td>\n",
              "      <td>21638.0</td>\n",
              "      <td>1685.0</td>\n",
              "      <td>7931.0</td>\n",
              "      <td>32.4279</td>\n",
              "      <td>53.6880</td>\n",
              "      <td>2020-03-22 14:13:06</td>\n",
              "      <td>22</td>\n",
              "      <td>3</td>\n",
              "      <td>12</td>\n",
              "      <td>6</td>\n",
              "    </tr>\n",
              "  </tbody>\n",
              "</table>\n",
              "</div>"
            ],
            "text/plain": [
              "     Province/State Country/Region         Last Update  ...  Month  Week  WeekDay\n",
              "6426          Hubei          China 2020-03-22 09:43:06  ...      3    12        6\n",
              "6427            NaN          Italy 2020-03-22 18:13:20  ...      3    12        6\n",
              "6428            NaN          Spain 2020-03-22 23:13:18  ...      3    12        6\n",
              "6429            NaN        Germany 2020-03-22 23:43:02  ...      3    12        6\n",
              "6430            NaN           Iran 2020-03-22 14:13:06  ...      3    12        6\n",
              "\n",
              "[5 rows x 13 columns]"
            ]
          },
          "metadata": {
            "tags": []
          },
          "execution_count": 89
        }
      ]
    },
    {
      "cell_type": "code",
      "metadata": {
        "id": "YZZekoM00FUm",
        "colab_type": "code",
        "outputId": "13261d6b-1655-40a4-b355-81ae78c01d94",
        "colab": {
          "base_uri": "https://localhost:8080/",
          "height": 469
        }
      },
      "source": [
        "plt.figure(figsize=(15,6))\n",
        "plt.title('Province/State which reported more than 1000 Confirmed case')\n",
        "plt.xticks(rotation=90)\n",
        "prvinc = last_updated_china\n",
        "prvincConfirmed = prvinc[prvinc['Confirmed']>1000]\n",
        "prvincConfirmed.head()\n",
        "sns.barplot(data=prvincConfirmed, x='Province/State', y='Confirmed')"
      ],
      "execution_count": 90,
      "outputs": [
        {
          "output_type": "execute_result",
          "data": {
            "text/plain": [
              "<matplotlib.axes._subplots.AxesSubplot at 0x7f1225982b38>"
            ]
          },
          "metadata": {
            "tags": []
          },
          "execution_count": 90
        },
        {
          "output_type": "display_data",
          "data": {
            "image/png": "[encoded data removed]",
            "text/plain": [
              "<Figure size 1080x432 with 1 Axes>"
            ]
          },
          "metadata": {
            "tags": []
          }
        }
      ]
    },
    {
      "cell_type": "code",
      "metadata": {
        "id": "DbMUdobp0FUr",
        "colab_type": "code",
        "outputId": "8f60b525-ba8c-475a-d5de-2686f9567655",
        "colab": {
          "base_uri": "https://localhost:8080/",
          "height": 51
        }
      },
      "source": [
        "prvincConfirmed['Country/Region'].value_counts()"
      ],
      "execution_count": 91,
      "outputs": [
        {
          "output_type": "execute_result",
          "data": {
            "text/plain": [
              "China    3\n",
              "Name: Country/Region, dtype: int64"
            ]
          },
          "metadata": {
            "tags": []
          },
          "execution_count": 91
        }
      ]
    },
    {
      "cell_type": "code",
      "metadata": {
        "id": "fVmWBKK_0FUu",
        "colab_type": "code",
        "outputId": "c1ffce46-8fb6-4e51-d461-008d7748a16e",
        "colab": {
          "base_uri": "https://localhost:8080/",
          "height": 474
        }
      },
      "source": [
        "plt.figure(figsize=(15,6))\n",
        "plt.title('Province/State which reported Confirmed case between 100 to 1000')\n",
        "plt.xticks(rotation=90)\n",
        "prvinc = last_updated_china\n",
        "prvincConfirmed = prvinc[(prvinc['Confirmed']>100)&(prvinc['Confirmed']<1000)]\n",
        "sns.barplot(data=prvincConfirmed, x='Province/State', y='Confirmed')"
      ],
      "execution_count": 92,
      "outputs": [
        {
          "output_type": "execute_result",
          "data": {
            "text/plain": [
              "<matplotlib.axes._subplots.AxesSubplot at 0x7f122592ebe0>"
            ]
          },
          "metadata": {
            "tags": []
          },
          "execution_count": 92
        },
        {
          "output_type": "display_data",
          "data": {
            "image/png": "[encoded data removed]",
            "text/plain": [
              "<Figure size 1080x432 with 1 Axes>"
            ]
          },
          "metadata": {
            "tags": []
          }
        }
      ]
    },
    {
      "cell_type": "code",
      "metadata": {
        "id": "LJ-BOsG10FUx",
        "colab_type": "code",
        "outputId": "2469a1bd-e7aa-41e4-c441-8f097cceaaee",
        "colab": {
          "base_uri": "https://localhost:8080/",
          "height": 51
        }
      },
      "source": [
        "prvincConfirmed['Country/Region'].value_counts()"
      ],
      "execution_count": 93,
      "outputs": [
        {
          "output_type": "execute_result",
          "data": {
            "text/plain": [
              "China    13\n",
              "Name: Country/Region, dtype: int64"
            ]
          },
          "metadata": {
            "tags": []
          },
          "execution_count": 93
        }
      ]
    },
    {
      "cell_type": "code",
      "metadata": {
        "id": "r04gqjbc0FU4",
        "colab_type": "code",
        "outputId": "3c3831b4-8cf6-4998-b36c-47452581a39e",
        "colab": {
          "base_uri": "https://localhost:8080/",
          "height": 474
        }
      },
      "source": [
        "plt.figure(figsize=(15,6))\n",
        "plt.xticks(rotation=90)\n",
        "plt.title('Province/State has reported Deaths case')\n",
        "sns.barplot(data=last_updated_china, x='Province/State', y='Deaths')"
      ],
      "execution_count": 94,
      "outputs": [
        {
          "output_type": "execute_result",
          "data": {
            "text/plain": [
              "<matplotlib.axes._subplots.AxesSubplot at 0x7f1225982dd8>"
            ]
          },
          "metadata": {
            "tags": []
          },
          "execution_count": 94
        },
        {
          "output_type": "display_data",
          "data": {
            "image/png": "[encoded data removed]",
            "text/plain": [
              "<Figure size 1080x432 with 1 Axes>"
            ]
          },
          "metadata": {
            "tags": []
          }
        }
      ]
    }
  ]
}